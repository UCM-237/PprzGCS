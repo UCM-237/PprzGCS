{
 "cells": [
  {
   "cell_type": "code",
   "execution_count": 1,
   "id": "0ec18a6e-c88f-48a4-b001-56ed2dfd8017",
   "metadata": {},
   "outputs": [
    {
     "ename": "NameError",
     "evalue": "name 'Controlador' is not defined",
     "output_type": "error",
     "traceback": [
      "\u001b[0;31m---------------------------------------------------------------------------\u001b[0m",
      "\u001b[0;31mNameError\u001b[0m                                 Traceback (most recent call last)",
      "Cell \u001b[0;32mIn[1], line 5\u001b[0m\n\u001b[1;32m      2\u001b[0m \u001b[38;5;28;01mfrom\u001b[39;00m \u001b[38;5;21;01mxml\u001b[39;00m\u001b[38;5;21;01m.\u001b[39;00m\u001b[38;5;21;01mdom\u001b[39;00m \u001b[38;5;28;01mimport\u001b[39;00m minidom\n\u001b[1;32m      4\u001b[0m \u001b[38;5;66;03m# Guardar los cambios en el archivo XML\u001b[39;00m\n\u001b[0;32m----> 5\u001b[0m output_path \u001b[38;5;241m=\u001b[39m \u001b[38;5;124mf\u001b[39m\u001b[38;5;124m'\u001b[39m\u001b[38;5;124m/home/dacya-iagesbloom/Documents/paparazzi/conf/airframes/UCM/\u001b[39m\u001b[38;5;132;01m{\u001b[39;00mControlador\u001b[38;5;132;01m}\u001b[39;00m\u001b[38;5;124m_opt.xml\u001b[39m\u001b[38;5;124m'\u001b[39m\n\u001b[1;32m      6\u001b[0m tree\u001b[38;5;241m.\u001b[39mwrite(output_path, encoding\u001b[38;5;241m=\u001b[39m\u001b[38;5;124m'\u001b[39m\u001b[38;5;124mutf-8\u001b[39m\u001b[38;5;124m'\u001b[39m, xml_declaration\u001b[38;5;241m=\u001b[39m\u001b[38;5;28;01mTrue\u001b[39;00m)\n\u001b[1;32m      7\u001b[0m \u001b[38;5;28mprint\u001b[39m(\u001b[38;5;124m\"\u001b[39m\u001b[38;5;124mARCHIVO CONTROLADOR CREADO\u001b[39m\u001b[38;5;124m\"\u001b[39m)\n",
      "\u001b[0;31mNameError\u001b[0m: name 'Controlador' is not defined"
     ]
    }
   ],
   "source": [
    "import xml.etree.ElementTree as ET\n",
    "from xml.dom import minidom\n",
    "\n",
    "#Ahora vamos a modificar el archivo conf.xml que se encuentra en la ruta paparazzi/conf/airframes/UCM para que cuando se abra paparazzi de nuevo el flight plan y el airframe sean los que pongamos aqui\n",
    "\n",
    "# Ruta del archivo XML que deseas modificar\n",
    "tree = ET.parse('/home/dacya-iagesbloom/Documents/paparazzi/conf/airframes/UCM/conf.xml')\n",
    "root = tree.getroot()\n",
    "\n",
    "new_flight_plan = f'{Archivo}_opt'\n",
    "new_airframe = f'{controlador}_opt'\n",
    "aircraft_name = 'Rover_Avelino'\n",
    "# Parsear el archivo XML\n",
    "\n",
    "#Buscar el nodo correspondiente al aircraft\n",
    "for aircraft in root.iter('aircraft'):\n",
    "    # Si el nombre del aircraft coincide, actualizar los valores\n",
    "    if define.get('name') == aircraft_name:\n",
    "        define.set('airframe', new_airframe)\n",
    "        define.set('flight_plan', new_flight_plan)\n",
    "# Guardar los cambios en el archivo XML\n",
    "output_path_comp = '/home/dacya-iagesbloom/Documents/paparazzi/conf/airframes/UCM/conf.xml'\n",
    "tree.write(output_path_comp, encoding='utf-8', xml_declaration=True)"
   ]
  },
  {
   "cell_type": "code",
   "execution_count": null,
   "id": "fe4b9e72-d0ab-4fb8-b0c6-d69c94b76453",
   "metadata": {},
   "outputs": [],
   "source": []
  }
 ],
 "metadata": {
  "kernelspec": {
   "display_name": "Python 3 (ipykernel)",
   "language": "python",
   "name": "python3"
  },
  "language_info": {
   "codemirror_mode": {
    "name": "ipython",
    "version": 3
   },
   "file_extension": ".py",
   "mimetype": "text/x-python",
   "name": "python",
   "nbconvert_exporter": "python",
   "pygments_lexer": "ipython3",
   "version": "3.8.10"
  }
 },
 "nbformat": 4,
 "nbformat_minor": 5
}
