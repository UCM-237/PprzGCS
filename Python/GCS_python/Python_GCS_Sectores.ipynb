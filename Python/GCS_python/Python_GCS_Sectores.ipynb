{
 "cells": [
  {
   "cell_type": "code",
   "execution_count": 1,
   "id": "126b7787-1de6-444c-89fb-ebb9a781241b",
   "metadata": {},
   "outputs": [],
   "source": [
    "#Cargamos los módulos que se van a necesitar\n",
    "import pandas as pd\n",
    "\n",
    "import numpy as np\n",
    "\n",
    "import matplotlib\n",
    "matplotlib.use('Qt5Agg')  # Cambia el backend a Qt5Agg para mostrar ventanas gráficas\n",
    "import matplotlib.pyplot as plt\n",
    "\n",
    "from scipy.spatial.distance import cdist\n",
    "from pymoo.core.problem import ElementwiseProblem\n",
    "\n",
    "from sklearn.cluster import KMeans\n",
    "from sklearn.preprocessing import scale\n",
    "from sklearn.metrics import silhouette_score\n",
    "\n",
    "from matplotlib import style\n",
    "\n",
    "#Para que el primer punto sea el inicial\n",
    "from pymoo.core.repair import Repair \n",
    "\n",
    "#Diferentes funciones de la biblioteca para optimizar (pymoo)\n",
    "from pymoo.algorithms.moo.nsga2 import NSGA2\n",
    "from pymoo.optimize import minimize\n",
    "from pymoo.problems.single.traveling_salesman import create_random_tsp_problem\n",
    "from pymoo.operators.sampling.rnd import PermutationRandomSampling\n",
    "from pymoo.operators.crossover.ox import OrderCrossover\n",
    "from pymoo.operators.mutation.inversion import InversionMutation\n",
    "from pymoo.termination.default import DefaultSingleObjectiveTermination\n",
    "from pymoo.operators.mutation.bitflip import BitflipMutation"
   ]
  },
  {
   "cell_type": "code",
   "execution_count": 2,
   "id": "9feeb474-76d0-418d-aa99-8de83e4b5f91",
   "metadata": {},
   "outputs": [
    {
     "name": "stdout",
     "output_type": "stream",
     "text": [
      "[['50.0' '-92.3']\n",
      " ['156.4' '212.8']\n",
      " ['-146.2' '22.3']\n",
      " ['-250.1' '255.3']\n",
      " ['-329.4' '-153.1']\n",
      " ['-66.8' '-444.9']\n",
      " ['199.3' '13.3']\n",
      " ['-47.5' '-233.4']]\n"
     ]
    }
   ],
   "source": [
    "#En primer lugar cargamos todos los archivos necesarios. Estos son los siguientes:\n",
    "#1- Datos.txt -> Nos dice si queremos mapa o no, número de segmentos y número de puntos de control\n",
    "#2- Coordenadas.txt -> Nos dice las coordenadas de los puntos de control\n",
    "#3- flight_plan -> Nos da todos los datos de lo que se desea en la ruta (Puntos de paso, regiones...)\n",
    "\n",
    "#flightplan_entrada = input(\"Introduce el archivo que quiere optimizar con la extensión .xml: \")\n",
    "#flightplan_salida = input(\"Introduce como quiere llamar archivo de salida con .xml: \")\n",
    "\n",
    "Estrategia = pd.read_csv('/home/dacya-iagesbloom/Desktop/PprzGCS/datos.txt', delimiter=':', header = None) #Datos.txt\n",
    "Coordenadas = pd.read_csv('/home/dacya-iagesbloom/Desktop/PprzGCS/coordenadas.txt', delimiter=',', header=None) #Coordenadas.txt\n",
    "\n",
    "#Carga de archivo XML\n",
    "import xml.etree.ElementTree as ET\n",
    "from xml.dom import minidom\n",
    "\n",
    "tree = ET.parse(f'/home/dacya-iagesbloom/Documents/paparazzi/conf/flight_plans/prueba2.xml')\n",
    "root = tree.getroot()\n",
    "\n",
    "# Encontrar todos los waypoints\n",
    "way_points = root.find('waypoints')\n",
    "waypoint_list = []\n",
    "squares_list = []\n",
    "unchanged_points = []\n",
    "\n",
    "# Almacenar los waypoints existentes en una lista\n",
    "for waypoint in way_points.findall('waypoint'):\n",
    "    name = waypoint.get('name')\n",
    "    x = float(waypoint.get('x'))\n",
    "    y = float(waypoint.get('y'))\n",
    "    if name.startswith('wp'):\n",
    "        waypoint_list.append((name, x, y))\n",
    "    else:\n",
    "        unchanged_points.append((name, x, y))\n",
    "way_points.clear()\n",
    "#PConvertimos tanto la lista de waypoints como unchanged en una lista y las unimos\n",
    "waypoints = np.array([[nombre, x, y] for nombre, x, y in waypoint_list])\n",
    "unchangedpoints = np.array([[nombre, x, y] for nombre, x, y in unchanged_points])\n",
    "points = np.concatenate((waypoints, unchangedpoints), axis=0)\n",
    "\n",
    "\n",
    "#Definimos una matriz unicamente con las coordenadas de cada parada:\n",
    "paradas = (waypoints[:,-2:])\n",
    "print(paradas)\n",
    "#Definimos parámetros del barco\n",
    "velocidad_media = 40"
   ]
  },
  {
   "cell_type": "code",
   "execution_count": null,
   "id": "266039f0-b4e8-495f-9e49-0f34524bad3b",
   "metadata": {},
   "outputs": [],
   "source": []
  }
 ],
 "metadata": {
  "kernelspec": {
   "display_name": "Python 3 (ipykernel)",
   "language": "python",
   "name": "python3"
  },
  "language_info": {
   "codemirror_mode": {
    "name": "ipython",
    "version": 3
   },
   "file_extension": ".py",
   "mimetype": "text/x-python",
   "name": "python",
   "nbconvert_exporter": "python",
   "pygments_lexer": "ipython3",
   "version": "3.8.10"
  }
 },
 "nbformat": 4,
 "nbformat_minor": 5
}
