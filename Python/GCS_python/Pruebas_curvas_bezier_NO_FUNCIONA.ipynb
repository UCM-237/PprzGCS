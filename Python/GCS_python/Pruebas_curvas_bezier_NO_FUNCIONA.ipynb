{
 "cells": [
  {
   "cell_type": "code",
   "execution_count": 1,
   "id": "544f4545-6408-4c3a-8882-13873926e664",
   "metadata": {},
   "outputs": [],
   "source": [
    "#En este ejemplo vamos a coger los puntos del xml de paparazzi, vamos a optimizar el camino con un TSP y posteriormente vamos a \n",
    "#calcular las curvas de Bezier mas óptimas"
   ]
  },
  {
   "cell_type": "code",
   "execution_count": 2,
   "id": "41324019-532d-4f52-b403-8382a6310143",
   "metadata": {},
   "outputs": [],
   "source": [
    "#Cargamos los módulos que se van a necesitar\n",
    "import pandas as pd\n",
    "\n",
    "import numpy as np\n",
    "\n",
    "import matplotlib\n",
    "matplotlib.use('Qt5Agg')  # Cambia el backend a Qt5Agg para mostrar ventanas gráficas\n",
    "import matplotlib.pyplot as plt\n",
    "\n",
    "from scipy.spatial.distance import cdist\n",
    "from pymoo.core.problem import ElementwiseProblem\n",
    "\n",
    "from sklearn.cluster import KMeans\n",
    "from sklearn.preprocessing import scale\n",
    "from sklearn.metrics import silhouette_score\n",
    "\n",
    "from matplotlib import style\n",
    "\n",
    "#Para que el primer punto sea el inicial\n",
    "from pymoo.core.repair import Repair \n",
    "\n",
    "#Diferentes funciones de la biblioteca para optimizar (pymoo)\n",
    "from pymoo.algorithms.moo.nsga2 import NSGA2\n",
    "from pymoo.optimize import minimize\n",
    "from pymoo.problems.single.traveling_salesman import create_random_tsp_problem\n",
    "from pymoo.operators.sampling.rnd import PermutationRandomSampling\n",
    "from pymoo.operators.crossover.ox import OrderCrossover\n",
    "from pymoo.operators.mutation.inversion import InversionMutation\n",
    "from pymoo.termination.default import DefaultSingleObjectiveTermination\n",
    "from pymoo.operators.mutation.bitflip import BitflipMutation"
   ]
  },
  {
   "cell_type": "code",
   "execution_count": 3,
   "id": "c3263a44-1619-4d71-9ace-8b162ab1893b",
   "metadata": {},
   "outputs": [
    {
     "name": "stdout",
     "output_type": "stream",
     "text": [
      "El archivo XML es válido.\n"
     ]
    }
   ],
   "source": [
    "from lxml import etree\n",
    "\n",
    "# Ruta a tu archivo XML y DTD\n",
    "xml_file = '/home/dacya-iagesbloom/Documents/paparazzi/conf/flight_plans/UCM/PRUEBA_BZ_V3_optimizar.xml'\n",
    "dtd_file = '/home/dacya-iagesbloom/Documents/paparazzi/conf/flight_plans/flight_plan.dtd'\n",
    "\n",
    "# Cargar el DTD\n",
    "with open(dtd_file, 'r') as dtd_f:\n",
    "    dtd = etree.DTD(dtd_f)\n",
    "\n",
    "# Cargar el archivo XML\n",
    "with open(xml_file, 'r') as xml_f:\n",
    "    xml_content = xml_f.read()\n",
    "\n",
    "# Validar el XML contra el DTD\n",
    "try:\n",
    "    xml_doc = etree.fromstring(xml_content)\n",
    "    if dtd.validate(xml_doc):\n",
    "        print(\"El archivo XML es válido.\")\n",
    "    else:\n",
    "        print(\"El archivo XML no es válido.\")\n",
    "        print(\"Errores:\")\n",
    "        for error in dtd.error_log:\n",
    "            print(f\"Línea {error.line}: {error.message}\")\n",
    "except etree.XMLSyntaxError as e:\n",
    "    print(\"Error de sintaxis XML:\")\n",
    "    print(e)\n"
   ]
  },
  {
   "cell_type": "code",
   "execution_count": 4,
   "id": "59b043b9-30ce-42aa-a1b8-f60117fc1b3a",
   "metadata": {},
   "outputs": [
    {
     "name": "stdout",
     "output_type": "stream",
     "text": [
      "[('HOME', 7.3, -26.2)]\n",
      "[('HOME', 7.3, -26.2), ('STDBY', 25.9, -45.2)]\n",
      "[('HOME', 7.3, -26.2), ('STDBY', 25.9, -45.2), ('ELLIPSE', 24.7, -41.1)]\n",
      "[('HOME', 7.3, -26.2), ('STDBY', 25.9, -45.2), ('ELLIPSE', 24.7, -41.1), ('_N1', 60.0, 60.0)]\n",
      "[('HOME', 7.3, -26.2), ('STDBY', 25.9, -45.2), ('ELLIPSE', 24.7, -41.1), ('_N1', 60.0, 60.0), ('_N2', 60.0, -60.0)]\n",
      "[('HOME', 7.3, -26.2), ('STDBY', 25.9, -45.2), ('ELLIPSE', 24.7, -41.1), ('_N1', 60.0, 60.0), ('_N2', 60.0, -60.0), ('_N3', -60.0, -60.0)]\n",
      "[('HOME', 7.3, -26.2), ('STDBY', 25.9, -45.2), ('ELLIPSE', 24.7, -41.1), ('_N1', 60.0, 60.0), ('_N2', 60.0, -60.0), ('_N3', -60.0, -60.0), ('_N4', -60.0, 60.0)]\n",
      "[['-29.1' '20.8']\n",
      " ['-16.0' '0.4']\n",
      " ['-18.7' '43.1']]\n"
     ]
    }
   ],
   "source": [
    "#En primer lugar cargamos todos los archivos necesarios. Estos son los siguientes:\n",
    "#1- Datos.txt -> Nos dice si queremos mapa o no, número de segmentos y número de puntos de control\n",
    "#2- Coordenadas.txt -> Nos dice las coordenadas de los puntos de control\n",
    "#3- flight_plan -> Nos da todos los datos de lo que se desea en la ruta (Puntos de paso, regiones...)\n",
    "\n",
    "#flightplan_entrada = input(\"Introduce el archivo que quiere optimizar con la extensión .xml: \")\n",
    "#flightplan_salida = input(\"Introduce como quiere llamar archivo de salida con .xml: \")\n",
    "\n",
    "#Leemos los archivos sacados del boton de planificación\n",
    "Estrategia = pd.read_csv('/home/dacya-iagesbloom/Desktop/PprzGCS/datos.txt', delimiter=':', header = None) #Datos.txt\n",
    "Coordenadas = pd.read_csv('/home/dacya-iagesbloom/Desktop/PprzGCS/coordenadas.txt', delimiter=',', header=None) #Coordenadas.txt\n",
    "\n",
    "#Carga de archivo XML\n",
    "import xml.etree.ElementTree as ET\n",
    "from xml.dom import minidom\n",
    "\n",
    "tree = ET.parse('/home/dacya-iagesbloom/Documents/paparazzi/conf/flight_plans/UCM/PRUEBA_BZ_V3_optimizar.xml')\n",
    "root = tree.getroot()\n",
    "\n",
    "# Encontrar todos los waypoints\n",
    "way_points = root.find('waypoints')\n",
    "waypoint_list = []\n",
    "unchanged_points = []\n",
    "\n",
    "#RECORDATORIO CHECKPOINT: EL CÓDIGO ESTABA HECHO PARA DECLARAR LAS VARIABLES CON X,Y NO CON LON LAT. EL PROBLEMA VIENE DE QUE CON\n",
    "#EL FLIGHT_PLAN HECHO POR MI EL SIMULADOR NO SIGUE BIEN LA RUTA. POR TANTO, ESTOY PROBANDO CON UNO QUE (A VECES) SÍ QUE HACE BIEN \n",
    "#LA RUTA. PERO HAY QUE O PASAR LON Y LAT A X E Y O QUE SEA CAPAZ DE LEER LON, LAT\n",
    "\n",
    "# Almacenar los waypoints existentes en una lista\n",
    "for waypoint in way_points.findall('waypoint'):\n",
    "    name = waypoint.get('name')\n",
    "    #print(name)\n",
    "    if name.startswith('BZ'):\n",
    "        #lat = float(waypoint.get('lat'))\n",
    "        #lon = float(waypoint.get('lon'))\n",
    "        x = float(waypoint.get('x'))\n",
    "        y = float(waypoint.get('y'))\n",
    "        #print(waypoint.get('lat'))\n",
    "        #print(lon)\n",
    "        #print(type(lat))\n",
    "        waypoint_list.append((name, x, y))\n",
    "        #waypoint_list.append((name, lat, lon))\n",
    "    else:\n",
    "        x = float(waypoint.get('x'))\n",
    "        y = float(waypoint.get('y'))\n",
    "        unchanged_points.append((name, x, y))\n",
    "        print(unchanged_points)\n",
    "        #waypoint_list.append((name, lon, lat))\n",
    "#Limpiamos way_points\n",
    "way_points.clear()\n",
    "\n",
    "#Convertimos tanto la lista de waypoints como unchanged en una lista y las unimos\n",
    "waypoints = np.array([[nombre, lat, lon] for nombre, lat, lon in waypoint_list])\n",
    "unchangedpoints = np.array([[nombre, x, y] for nombre, x, y in unchanged_points])\n",
    "points = np.concatenate((waypoints, unchangedpoints), axis=0)\n",
    "\n",
    "\n",
    "#Definimos una matriz unicamente con las coordenadas de cada parada:\n",
    "paradas = (waypoints[:,-2:])\n",
    "print(paradas)\n",
    "#Definimos parámetros del barco\n",
    "velocidad_media = 40"
   ]
  },
  {
   "cell_type": "code",
   "execution_count": 5,
   "id": "13a260d0-f561-4de4-ad51-64dacf0eb2f8",
   "metadata": {},
   "outputs": [],
   "source": [
    "#Ahora una vez tenemos los puntos vamos a añadir el algoritmo de optimización\n",
    "\n",
    "#COSA TO DO DESPUÉS DE HABER LOGRADO UNIR EL OPTIMIZADOR CON LA RECOGIDA DE DATOS: FIJAR EL PUNTO INICIAL Y FINAL\n",
    "stops=paradas\n",
    "\n",
    "#Definimos el problema\n",
    "class RUTA (ElementwiseProblem):\n",
    "\n",
    "    def __init__(self, **kwargs):\n",
    "        \n",
    "        start_idx = 0  # Primer punto\n",
    "        end_idx = len(waypoints)-1 # Último punto\n",
    "        \n",
    "        n_stops, _ = stops.shape #Aquí coge las filas (Por tanto el número de paradas)\n",
    "        #n_stops=n_stops-1\n",
    "        self.stops = stops\n",
    "        self.D = cdist(stops, stops)\n",
    "        self.start_idx = start_idx\n",
    "        self.end_idx = end_idx\n",
    "        super(RUTA, self).__init__(\n",
    "            n_var=n_stops,\n",
    "            n_obj=1,\n",
    "            n_constr=2,\n",
    "            xl=0,\n",
    "            xu=len(stops),\n",
    "            vtype=int,\n",
    "            **kwargs\n",
    "        )\n",
    "\n",
    "    #Definimos las funciones de evaluación y las reestricciones\n",
    "    def _evaluate(self, x, out, *args, **kwargs):\n",
    "        distancia=self.get_route_length(x)\n",
    "        tiempo=self.get_route_length(x)/velocidad_media\n",
    "        out['F'] = [distancia]\n",
    "\n",
    "        #Voy a poner aquí las restricciones\n",
    "        #Restricciones\n",
    "        \n",
    "        #Max_dist=self.get_route_length(x)-250\n",
    "        \n",
    "        #Max_tiempo=self.get_route_length(x)/velocidad_media-250\n",
    "\n",
    "        #x_ord=np.sort(x)\n",
    "        #penalty_paradas=0\n",
    "        #for i in range(len(x_ord)-1):\n",
    "        #   if x_ord[i] == x_ord[i+1]:\n",
    "        #       penalty_paradas=10000\n",
    "        g1 = 1 if x[0] != self.start_idx else 0  # Penaliza si el primer punto no es start_idx\n",
    "        g2 = 1 if x[-1] != self.end_idx else 0   # Penaliza si el último punto no es end_idx\n",
    "        #out[\"G\"]=[Max_dist, Max_tiempo + penalty_paradas]\n",
    "        \n",
    "        out[\"G\"] = [g1, g2]\n",
    "\n",
    "    #Distancia de la ruta\n",
    "    def get_route_length(self, x):\n",
    "        n_stops = len(x)\n",
    "        dist = 0\n",
    "        for k in range(n_stops - 1):\n",
    "            i, j = x[k], x[k + 1]\n",
    "            dist += self.D[i, j]\n",
    "        return dist\n",
    "\n",
    "#Visualización de los resultados\n",
    "def visualize_3(problem, x, n, fig=None, ax=None, show=True, label=True):\n",
    "    with plt.style.context('ggplot'):\n",
    "        # Asegúrate de que x sea un array unidimensional\n",
    "        x = np.asarray(x)  # Convierte x a un array de numpy\n",
    "\n",
    "        if x.ndim == 1:  # Asegúrate de que es un vector\n",
    "            x = x.flatten()  # Aplana el array para asegurarte de que sea 1D\n",
    "\n",
    "        if fig is None or ax is None:\n",
    "            fig, ax = plt.subplots()\n",
    "\n",
    "        # Plot de las ciudades usando scatter plot\n",
    "        ax.scatter(problem.stops[:, 0], problem.stops[:, 1], s=150)\n",
    "        if label:\n",
    "            # Anota las ciudades\n",
    "            for i, c in enumerate(problem.stops):\n",
    "                ax.annotate(str(i), xy=c, fontsize=10, ha=\"center\", va=\"center\", color=\"white\")\n",
    "\n",
    "        # Plotea la línea en el camino\n",
    "        for i in range(len(x) - 1):\n",
    "            current = int(x[i])  # Asegúrate de convertir a entero\n",
    "            next_ = int(x[i + 1])  # Asegúrate de convertir a entero\n",
    "            ax.plot(problem.stops[[current, next_], 0], problem.stops[[current, next_], 1], 'r--')\n",
    "\n",
    "        fig.suptitle(f\"Route length: {problem.get_route_length(x)} km \\nRoute time: {problem.get_route_length(x) * 60 / velocidad_media} min\")\n",
    "\n",
    "        if show:\n",
    "            plt.show()"
   ]
  },
  {
   "cell_type": "code",
   "execution_count": 6,
   "id": "7d6572ce-a028-474a-9bce-864d2ea75187",
   "metadata": {},
   "outputs": [],
   "source": [
    "#Para en caso en el que tengamos más de un barco hará un clustering con kmeans para clasificar las diferentes paradas\n",
    "#De momento dejaremos el n_barcos fijos igual a 1 pero el algoritmo está preparado para que en algún momento se puedan añadir más\n",
    "n_barcos = 1\n",
    "\n",
    "style.use('ggplot') or plt.style.use('ggplot')\n",
    "\n",
    "x_k, y=paradas[0], paradas[1]\n",
    "X_scaled = scale(paradas)\n",
    "modelo_kmeans = KMeans(n_clusters=n_barcos, n_init=25, random_state=123)\n",
    "modelo_kmeans.fit(X=X_scaled)\n",
    "\n",
    "# Clasificación con el modelo kmeans\n",
    "\n",
    "y_predict = modelo_kmeans.predict(X=X_scaled)\n",
    "\n",
    "#Representación\n",
    "fig, ax = plt.subplots(1, 1, figsize=(10, 4))\n",
    "\n",
    "for i in np.unique(y_predict):\n",
    "    ax.scatter(\n",
    "        x = X_scaled[y_predict == i, 0],\n",
    "        y = X_scaled[y_predict == i, 1], \n",
    "        c = plt.rcParams['axes.prop_cycle'].by_key()['color'][i],\n",
    "        marker    = 'o',\n",
    "        edgecolor = 'black', \n",
    "        label= f\"Cluster {i}\"\n",
    "    )\n",
    "    \n",
    "ax.scatter(\n",
    "    x = modelo_kmeans.cluster_centers_[:, 0],\n",
    "    y = modelo_kmeans.cluster_centers_[:, 1], \n",
    "    c = 'black',\n",
    "    s = 40,\n",
    "    marker = 'o',\n",
    "    label  = 'centroides'\n",
    ")\n",
    "ax.set_title('Clusters generados por Kmeans')\n",
    "ax.legend();"
   ]
  },
  {
   "cell_type": "code",
   "execution_count": 7,
   "id": "3e248c12-7a9b-4f2a-829c-96841e0b1dbf",
   "metadata": {},
   "outputs": [
    {
     "name": "stdout",
     "output_type": "stream",
     "text": [
      "0\n",
      "\n",
      "Compiled modules for significant speedup can not be used!\n",
      "https://pymoo.org/installation.html#installation\n",
      "\n",
      "To disable this warning:\n",
      "from pymoo.config import Config\n",
      "Config.warnings['not_compiled'] = False\n",
      "\n",
      "Maximum Span: 67.029\n",
      "Function Evaluations: 6\n",
      "[0 1 2]\n"
     ]
    },
    {
     "data": {
      "image/png": "[encoded data removed]",
      "text/plain": [
       "<Figure size 1000x400 with 1 Axes>"
      ]
     },
     "metadata": {},
     "output_type": "display_data"
    },
    {
     "data": {
      "image/png": "[encoded data removed]",
      "text/plain": [
       "<Figure size 640x480 with 1 Axes>"
      ]
     },
     "metadata": {},
     "output_type": "display_data"
    }
   ],
   "source": [
    "#Creamos un diccionario para almacenar cada ruta\n",
    "rutas={}\n",
    "stops=paradas.astype(float)\n",
    "fitness=[]\n",
    "\n",
    "for i in range(n_barcos):\n",
    "    print(i)\n",
    "    grupos_finales=np.array([stops[:,0].T, stops[:,1].T, y_predict])\n",
    "    grupos_finales=grupos_finales.T\n",
    "    rutas[f\"ruta_{i}\"]=grupos_finales[grupos_finales[:,2]==i][:,:2]\n",
    "from pymoo.core.sampling import Sampling\n",
    "for i in range(n_barcos):\n",
    "    n_stops=len(stops)\n",
    "    problem = RUTA()\n",
    "\n",
    "        \n",
    "    class CustomSampling(Sampling):\n",
    "        def _do(self, problem, n_samples, **kwargs):\n",
    "            # Generar n_samples rutas aleatorias\n",
    "            samples = []\n",
    "            for _ in range(n_samples):\n",
    "                # Crear una ruta aleatoria (permutación de las paradas)\n",
    "                route = np.random.permutation(n_stops)\n",
    "                #print(f\"n_paradas {n_stops}\")\n",
    "                samples.append(route)\n",
    "                #print(f\"samples {samples}\")\n",
    "            return np.array(samples)\n",
    "            \n",
    "    #Muestra\n",
    "    sampling=CustomSampling()  \n",
    "    algorithm = NSGA2(\n",
    "        pop_size=20,\n",
    "        sampling=sampling,\n",
    "        mutation=InversionMutation(),\n",
    "        #mutation=BitflipMutation(),\n",
    "        crossover=OrderCrossover(),\n",
    "        eliminate_duplicates=True,\n",
    "        save_history=True,\n",
    "        #verbose=True\n",
    "    )\n",
    "\n",
    "    #Optimización    \n",
    "    res = minimize(\n",
    "        problem,\n",
    "        algorithm,\n",
    "        termination=('n_gen',100),\n",
    "        seed=1,\n",
    "        verbose=False,\n",
    "    )\n",
    "    print(\"Maximum Span:\", np.round(res.F[0], 3))\n",
    "    print(\"Function Evaluations:\", res.algorithm.evaluator.n_eval)\n",
    "    print(res.X)\n",
    "    %matplotlib inline\n",
    "    visualize_3(problem, res.X, n_barcos)\n",
    "    \n"
   ]
  },
  {
   "cell_type": "code",
   "execution_count": 8,
   "id": "6833a6e5-4a64-4561-a9d4-9ae720710469",
   "metadata": {},
   "outputs": [],
   "source": [
    "dtype = [('nombre', 'U10'), ('x', 'f4'), ('y', 'f4')]  # U10 para string, f4 para float\n",
    "resultado = np.zeros(len(res.X),dtype=dtype)\n",
    "\n",
    "for i in range(len(res.X)):\n",
    "    idx = res.X[i]    \n",
    "    resultado[i] = (f'BZ{i}', waypoint_list[idx][1], waypoint_list[idx][2])"
   ]
  },
  {
   "cell_type": "code",
   "execution_count": 9,
   "id": "2f67ea53-e7ab-4d22-87fc-c9c6009f54e0",
   "metadata": {},
   "outputs": [],
   "source": [
    "Puntos_paso = np.vstack((resultado['x'], resultado['y'])).T"
   ]
  },
  {
   "cell_type": "code",
   "execution_count": 10,
   "id": "882ee1f2-0d2a-48fe-8385-d8d573cc7c46",
   "metadata": {},
   "outputs": [],
   "source": [
    "#Ahora viene la implementación de las curvas de Bezier"
   ]
  },
  {
   "cell_type": "code",
   "execution_count": 11,
   "id": "2f983724-021a-439d-b60a-c959188b7252",
   "metadata": {},
   "outputs": [],
   "source": [
    "from scipy.special import comb\n",
    "\n",
    "def get_bezier_parameters(X, Y, smooth_factor, degree=3):\n",
    "    \"\"\" Least square qbezier fit using penrose pseudoinverse.\n",
    "\n",
    "    Parameters:\n",
    "\n",
    "    X: array of x data.\n",
    "    Y: array of y data. Y[0] is the y point for X[0].\n",
    "    degree: degree of the Bézier curve. 2 for quadratic, 3 for cubic.\n",
    "\n",
    "    Based on https://stackoverflow.com/questions/12643079/b%C3%A9zier-curve-fitting-with-scipy\n",
    "    and probably on the 1998 thesis by Tim Andrew Pastva, \"Bézier Curve Fitting\".\n",
    "    \"\"\"\n",
    "    if degree < 1:\n",
    "        raise ValueError('degree must be 1 or greater.')\n",
    "\n",
    "    if len(X) != len(Y):\n",
    "        raise ValueError('X and Y must be of the same length.')\n",
    "\n",
    "    #if len(X) < degree + 1:\n",
    "    #    raise ValueError(f'There must be at least {degree + 1} points to '\n",
    "    #                     f'determine the parameters of a degree {degree} curve. '\n",
    "    #                     f'Got only {len(X)} points.')\n",
    "\n",
    "    def bpoly(n, t, k):\n",
    "        \"\"\" Bernstein polynomial when a = 0 and b = 1. \"\"\"\n",
    "        return t ** k * (1 - t) ** (n - k) * comb(n, k)\n",
    "        #return comb(n, i) * ( t**(n-i) ) * (1 - t)**i\n",
    "\n",
    "    def bmatrix(T):\n",
    "        \"\"\" Bernstein matrix for Bézier curves. \"\"\"\n",
    "        return np.matrix([[bpoly(degree, t, k) for k in range(degree + 1)] for t in T])\n",
    "\n",
    "    def least_square_fit(points, M, smooth_factor):\n",
    "        M_ = np.linalg.pinv(M)\n",
    "        \n",
    "        smooth_matrix = np.eye(M.shape[1])\n",
    "        for i in range(1, M.shape[1]):\n",
    "            smooth_matrix[i, i - 1] = -1  # Penaliza diferencias grandes entre puntos de control adyacentes\n",
    "\n",
    "        # Combine the original fitting problem with the smoothness constraint\n",
    "        augmented_matrix = np.vstack([M, smooth_factor * smooth_matrix])\n",
    "        augmented_points = np.vstack([points, np.zeros((smooth_matrix.shape[0], points.shape[1]))])\n",
    "        \n",
    "        return np.linalg.pinv(augmented_matrix) @ augmented_points\n",
    "\n",
    "    T = np.linspace(0, 1, len(X))\n",
    "    M = bmatrix(T)\n",
    "    points = np.array(list(zip(X, Y)))\n",
    "    \n",
    "    final = least_square_fit(points, M, smooth_factor).tolist()\n",
    "    final[0] = [X[0], Y[0]]\n",
    "    final[len(final)-1] = [X[len(X)-1], Y[len(Y)-1]]\n",
    "    return final"
   ]
  },
  {
   "cell_type": "code",
   "execution_count": 12,
   "id": "e83c9271-9f48-4900-82aa-5a684211dbb0",
   "metadata": {},
   "outputs": [],
   "source": [
    "def bernstein_poly(i, n, t):\n",
    "    \"\"\"\n",
    "     The Bernstein polynomial of n, i as a function of t\n",
    "    \"\"\"\n",
    "    return comb(n, i) * ( t**(n-i) ) * (1 - t)**i\n",
    "\n",
    "\n",
    "def bezier_curve(points, nTimes=50):\n",
    "    \"\"\"\n",
    "       Given a set of control points, return the\n",
    "       bezier curve defined by the control points.\n",
    "\n",
    "       points should be a list of lists, or list of tuples\n",
    "       such as [ [1,1], \n",
    "                 [2,3], \n",
    "                 [4,5], ..[Xn, Yn] ]\n",
    "        nTimes is the number of time steps, defaults to 1000\n",
    "\n",
    "        See http://processingjs.nihongoresources.com/bezierinfo/\n",
    "    \"\"\"\n",
    "\n",
    "    nPoints = len(points)\n",
    "    xPoints = np.array([p[0] for p in points])\n",
    "    yPoints = np.array([p[1] for p in points])\n",
    "\n",
    "    t = np.linspace(0.0, 1.0, nTimes)\n",
    "\n",
    "    polynomial_array = np.array([ bernstein_poly(i, nPoints-1, t) for i in range(0, nPoints)   ])\n",
    "\n",
    "    xvals = np.dot(xPoints, polynomial_array)\n",
    "    yvals = np.dot(yPoints, polynomial_array)\n",
    "\n",
    "    return xvals, yvals"
   ]
  },
  {
   "cell_type": "code",
   "execution_count": 13,
   "id": "50539f8f-6c40-4b72-9530-55f1557bf9d9",
   "metadata": {},
   "outputs": [],
   "source": [
    "#Añadimos los puntos\n",
    "points = []\n",
    "xpoints = Puntos_paso[:,0]\n",
    "ypoints = Puntos_paso[:,1]\n",
    "xypoints=[xpoints, ypoints]\n",
    "\n",
    "for i in range(len(xpoints)):\n",
    "    points.append([xpoints[i],ypoints[i]])"
   ]
  },
  {
   "cell_type": "code",
   "execution_count": 14,
   "id": "43daaeed-9c16-40e1-9168-5510cf129cdd",
   "metadata": {},
   "outputs": [
    {
     "name": "stdout",
     "output_type": "stream",
     "text": [
      "[[-29.1, 20.8], [-18.16517123680536, 8.007898170804532], [-17.241336632471132, 4.450083383118925], [-16.617066987231546, 3.561182277790972], [-16.49207227381637, 7.120470643059032], [-16.86635249222559, 15.127948478923093], [-17.54019766972947, 25.80433999714481], [-18.7, 43.1]]\n",
      "[-29.1, -18.16517123680536, -17.241336632471132, -16.617066987231546, -16.49207227381637, -16.86635249222559, -17.54019766972947, -18.7]\n",
      "[20.8, 8.007898170804532, 4.450083383118925, 3.561182277790972, 7.120470643059032, 15.127948478923093, 25.80433999714481, 43.1]\n",
      "Len:  6\n"
     ]
    },
    {
     "data": {
      "image/png": "[encoded data removed]",
      "text/plain": [
       "<Figure size 640x480 with 1 Axes>"
      ]
     },
     "metadata": {},
     "output_type": "display_data"
    }
   ],
   "source": [
    "import matplotlib.pyplot as plt\n",
    "# Plot the original points\n",
    "plt.plot(xpoints, ypoints, \"ro\", markersize = 7, label='Original Points')\n",
    "# Get the Bezier parameters based on a degree.\n",
    "data = get_bezier_parameters(xpoints, ypoints, 0.7, degree=len(xpoints)*2+1) #BZ0 BZ5 BZ8 BZ11 son los de paso, por tanto habrá 4*2 + 1 puntos de contol ya que el algoritmo te pone 1 pnt cntrl en el 1 punto y en el último\n",
    "\n",
    "x_val = [x[0] for x in data]\n",
    "y_val = [x[1] for x in data]\n",
    "print(data)\n",
    "print(x_val)\n",
    "print(y_val)\n",
    "x_val = np.delete(x_val, 0)\n",
    "x_val = np.delete(x_val, -1)\n",
    "y_val = np.delete(y_val, 0)\n",
    "y_val = np.delete(y_val, -1)\n",
    "print(\"Len: \",len(x_val))\n",
    "\n",
    "# Añadir etiquetas de los índices\n",
    "for i, (xi, yi) in enumerate(zip(x_val, y_val)):\n",
    "    plt.text(xi, yi, str(i), fontsize=12, ha='right')\n",
    "\n",
    "\n",
    "# Plot the control points\n",
    "plt.plot(x_val,y_val,'k--o', label='Control Points')\n",
    "# Plot the resulting Bezier curve\n",
    "xvals, yvals = bezier_curve(data, nTimes=1000)\n",
    "#plt.xlim(40, 40.5)\n",
    "#plt.ylim(-3.72725, -3.72580)\n",
    "plt.plot(xvals, yvals, 'b-', label='B Curve')\n",
    "plt.legend()\n",
    "plt.show()"
   ]
  },
  {
   "cell_type": "code",
   "execution_count": 15,
   "id": "8f7ffaca-ea02-4e93-b4fe-cadbe397367d",
   "metadata": {},
   "outputs": [],
   "source": [
    "import numpy as np\n",
    "\n",
    "def xy_to_lonlat_vector(x, y, lon0, lat0):\n",
    "    \"\"\"\n",
    "    Convierte vectores de coordenadas en metros (x, y) a vectores de longitud y latitud\n",
    "    desde un punto de origen (lon0, lat0).\n",
    "    \n",
    "    Parámetros:\n",
    "    x (array-like): Coordenadas x en metros desde el origen.\n",
    "    y (array-like): Coordenadas y en metros desde el origen.\n",
    "    lon0 (float): Longitud del origen en grados.\n",
    "    lat0 (float): Latitud del origen en grados.\n",
    "    \n",
    "    Retorna:\n",
    "    (numpy.array, numpy.array): Arrays de longitud y latitud en grados.\n",
    "    \"\"\"\n",
    "    # Radio de la Tierra en metros\n",
    "    R = 6378137.0  \n",
    "\n",
    "    # Convertir el desplazamiento en latitud\n",
    "    lat = lat0 + (y / R) * (180 / np.pi)\n",
    "    \n",
    "    # Ajustar el radio en función de la latitud para calcular longitud\n",
    "    lon = lon0 + (x / (R * np.cos(np.radians(lat0)))) * (180 / np.pi)\n",
    "    \n",
    "    return lon, lat\n"
   ]
  },
  {
   "cell_type": "code",
   "execution_count": 16,
   "id": "caf0258e-71e5-4434-ac6f-d94fdde0b67b",
   "metadata": {},
   "outputs": [],
   "source": [
    "\n",
    "\n",
    "latpoints, lonpoints = xy_to_lonlat_vector(xpoints, ypoints, 40.4504131,\t-3.7270610)\n",
    "\n",
    "for i in range(len(xpoints)):\n",
    "    points.append([latpoints[i],lonpoints[i]])\n",
    "\n",
    "x_val, y_val = xy_to_lonlat_vector(x_val, y_val, 40.4504131,\t-3.7270610)"
   ]
  },
  {
   "cell_type": "code",
   "execution_count": 17,
   "id": "2eb522f9-dd6a-4115-80c9-29d527f08113",
   "metadata": {},
   "outputs": [
    {
     "name": "stdout",
     "output_type": "stream",
     "text": [
      "[[33.3, 12.3], [21.811593891661484, 3.356722324750471], [20.667138742907923, 2.5327937427538583], [18.20816638222612, 6.998977716073369], [14.622939475124658, 17.01119753292817], [11.415068260698364, 29.305657819434096], [10.83996809758945, 38.986665514764866], [14.401249224892622, 42.79042524503622], [21.642147148689535, 41.04383432450821], [35.4, 33.9]]\n",
      "[33.3, 21.811593891661484, 20.667138742907923, 18.20816638222612, 14.622939475124658, 11.415068260698364, 10.83996809758945, 14.401249224892622, 21.642147148689535, 35.4]\n",
      "[12.3, 3.356722324750471, 2.5327937427538583, 6.998977716073369, 17.01119753292817, 29.305657819434096, 38.986665514764866, 42.79042524503622, 41.04383432450821, 33.9]\n",
      "Len:  8\n"
     ]
    },
    {
     "data": {
      "image/png": "[encoded data removed]",
      "text/plain": [
       "<Figure size 640x480 with 1 Axes>"
      ]
     },
     "metadata": {},
     "output_type": "display_data"
    }
   ],
   "source": [
    "import matplotlib.pyplot as plt\n",
    "# Plot the original points\n",
    "plt.plot(xpoints, ypoints, \"ro\", markersize = 7, label='Original Points')\n",
    "# Get the Bezier parameters based on a degree.\n",
    "data = get_bezier_parameters(xpoints, ypoints, 0.7, degree=len(xpoints)*2+1) #BZ0 BZ5 BZ8 BZ11 son los de paso, por tanto habrá 4*2 + 1 puntos de contol ya que el algoritmo te pone 1 pnt cntrl en el 1 punto y en el último\n",
    "\n",
    "x_val = [x[0] for x in data]\n",
    "y_val = [x[1] for x in data]\n",
    "print(data)\n",
    "print(x_val)\n",
    "print(y_val)\n",
    "x_val = np.delete(x_val, 0)\n",
    "x_val = np.delete(x_val, -1)\n",
    "y_val = np.delete(y_val, 0)\n",
    "y_val = np.delete(y_val, -1)\n",
    "print(\"Len: \",len(x_val))\n",
    "\n",
    "# Añadir etiquetas de los índices\n",
    "for i, (xi, yi) in enumerate(zip(x_val, y_val)):\n",
    "    plt.text(xi, yi, str(i), fontsize=12, ha='right')\n",
    "\n",
    "\n",
    "# Plot the control points\n",
    "plt.plot(x_val,y_val,'k--o', label='Control Points')\n",
    "# Plot the resulting Bezier curve\n",
    "xvals, yvals = bezier_curve(data, nTimes=1000)\n",
    "#plt.xlim(40, 40.5)\n",
    "#plt.ylim(-3.72725, -3.72580)\n",
    "plt.plot(xvals, yvals, 'b-', label='B Curve')\n",
    "plt.legend()\n",
    "plt.show()"
   ]
  },
  {
   "cell_type": "code",
   "execution_count": 18,
   "id": "ea92a7f6-5e43-4f1c-9727-fdb22b90c09e",
   "metadata": {},
   "outputs": [
    {
     "name": "stdout",
     "output_type": "stream",
     "text": [
      "1\n",
      "2\n",
      "3\n",
      "4\n",
      "Paso:  1\n",
      "Punto añadido:  [20.6 -0.2]\n",
      "Control 1: 4\n",
      "Punto añadido:  [11.41506826 29.30565782]\n",
      "Control 2: 5\n",
      "Punto añadido:  [10.8399681  38.98666551]\n",
      "[[33.29999924 12.30000019]\n",
      " [21.81159389  3.35672232]\n",
      " [20.66713874  2.53279374]\n",
      " [18.20816638  6.99897772]\n",
      " [14.62293948 17.01119753]\n",
      " [20.60000038 -0.2       ]\n",
      " [11.41506826 29.30565782]\n",
      " [10.8399681  38.98666551]\n",
      " [ 0.          0.        ]\n",
      " [ 0.          0.        ]\n",
      " [ 0.          0.        ]\n",
      " [ 0.          0.        ]]\n",
      "Paso:  2\n",
      "Punto añadido:  [ 6.5 46.4]\n",
      "Control 1: 6\n",
      "Punto añadido:  [14.40124922 42.79042525]\n",
      "Control 2: 7\n",
      "Punto añadido:  [21.64214715 41.04383432]\n",
      "[[33.29999924 12.30000019]\n",
      " [21.81159389  3.35672232]\n",
      " [20.66713874  2.53279374]\n",
      " [18.20816638  6.99897772]\n",
      " [14.62293948 17.01119753]\n",
      " [20.60000038 -0.2       ]\n",
      " [11.41506826 29.30565782]\n",
      " [10.8399681  38.98666551]\n",
      " [ 6.5        46.40000153]\n",
      " [14.40124922 42.79042525]\n",
      " [21.64214715 41.04383432]\n",
      " [ 0.          0.        ]]\n",
      "Paso:  3\n",
      "Punto añadido:  [35.4 33.9]\n",
      "[[33.29999924 12.30000019]\n",
      " [21.81159389  3.35672232]\n",
      " [20.66713874  2.53279374]\n",
      " [18.20816638  6.99897772]\n",
      " [14.62293948 17.01119753]\n",
      " [20.60000038 -0.2       ]\n",
      " [11.41506826 29.30565782]\n",
      " [10.8399681  38.98666551]\n",
      " [ 6.5        46.40000153]\n",
      " [14.40124922 42.79042525]\n",
      " [21.64214715 41.04383432]\n",
      " [35.40000153 33.90000153]]\n"
     ]
    }
   ],
   "source": [
    "#Ahora que ya tenemos los puntos de paso y de control necesitamos llevarlo a paparazzi en un xml\n",
    "\n",
    "#Hay que tener en cuenta lo siguiente: Después de BZ0 -> 4 pnts control, luego entre punto y punto habrá 2 de control\n",
    "Puntos_control = np.array([x_val, y_val]).T\n",
    "Total_puntos = Puntos_control.shape[0] + Puntos_paso.shape[0]\n",
    "Puntos_Bezier = np.zeros((Total_puntos, Puntos_control.shape[1]))\n",
    "\n",
    "#Añadimos en primer lugar BZ0 y los 4 puntos de control\n",
    "\n",
    "Puntos_Bezier[0] = Puntos_paso[0]\n",
    "for i in range(1, 5, 1):\n",
    "    print(i)\n",
    "    Puntos_Bezier[i] = Puntos_control[i-1]\n",
    "\n",
    "idx_control = 4\n",
    "idx_paso = 1\n",
    "\n",
    "for i in range(5, len(Puntos_Bezier), 3):\n",
    "    if idx_paso<=len(Puntos_paso)-1:\n",
    "        print(\"Paso: \", idx_paso)\n",
    "        print(\"Punto añadido: \", Puntos_paso[idx_paso])\n",
    "        Puntos_Bezier[i] = Puntos_paso[idx_paso]\n",
    "        idx_paso += 1\n",
    "    if idx_control<=len(Puntos_control)-1:\n",
    "        print(\"Control 1:\", idx_control)\n",
    "        print(\"Punto añadido: \", Puntos_control[idx_control])\n",
    "        Puntos_Bezier[i+1] = Puntos_control[idx_control]\n",
    "        idx_control += 1\n",
    "    if idx_control<=len(Puntos_control)-1:\n",
    "        print(\"Control 2:\", idx_control)\n",
    "        print(\"Punto añadido: \", Puntos_control[idx_control])\n",
    "        Puntos_Bezier[i+2] = Puntos_control[idx_control]\n",
    "        idx_control += 1\n",
    "    print(Puntos_Bezier)"
   ]
  },
  {
   "cell_type": "code",
   "execution_count": 19,
   "id": "19174896-565e-431b-886c-07ff5c51f906",
   "metadata": {},
   "outputs": [
    {
     "name": "stdout",
     "output_type": "stream",
     "text": [
      "Paso:\n",
      " [[33.3 12.3]\n",
      " [20.6 -0.2]\n",
      " [ 6.5 46.4]\n",
      " [35.4 33.9]]\n",
      "Control:\n",
      " [[21.81159389  3.35672232]\n",
      " [20.66713874  2.53279374]\n",
      " [18.20816638  6.99897772]\n",
      " [14.62293948 17.01119753]\n",
      " [11.41506826 29.30565782]\n",
      " [10.8399681  38.98666551]\n",
      " [14.40124922 42.79042525]\n",
      " [21.64214715 41.04383432]]\n",
      "Bezier:\n",
      " [[33.29999924 12.30000019]\n",
      " [21.81159389  3.35672232]\n",
      " [20.66713874  2.53279374]\n",
      " [18.20816638  6.99897772]\n",
      " [14.62293948 17.01119753]\n",
      " [20.60000038 -0.2       ]\n",
      " [11.41506826 29.30565782]\n",
      " [10.8399681  38.98666551]\n",
      " [ 6.5        46.40000153]\n",
      " [14.40124922 42.79042525]\n",
      " [21.64214715 41.04383432]\n",
      " [35.40000153 33.90000153]]\n"
     ]
    }
   ],
   "source": [
    "print(\"Paso:\\n\", Puntos_paso)\n",
    "\n",
    "print(\"Control:\\n\", Puntos_control)\n",
    "\n",
    "print(\"Bezier:\\n\", Puntos_Bezier)"
   ]
  },
  {
   "cell_type": "code",
   "execution_count": 20,
   "id": "82154394-c984-47e4-8676-308d94ee29df",
   "metadata": {},
   "outputs": [
    {
     "data": {
      "text/plain": [
       "array([[21.81159389,  3.35672232],\n",
       "       [20.66713874,  2.53279374],\n",
       "       [18.20816638,  6.99897772],\n",
       "       [14.62293948, 17.01119753],\n",
       "       [11.41506826, 29.30565782],\n",
       "       [10.8399681 , 38.98666551],\n",
       "       [14.40124922, 42.79042525],\n",
       "       [21.64214715, 41.04383432]])"
      ]
     },
     "execution_count": 20,
     "metadata": {},
     "output_type": "execute_result"
    }
   ],
   "source": [
    "Puntos_control"
   ]
  },
  {
   "cell_type": "code",
   "execution_count": 26,
   "id": "ebd947a4-4a72-4676-a010-e3e2961ee10f",
   "metadata": {},
   "outputs": [
    {
     "name": "stdout",
     "output_type": "stream",
     "text": [
      "[('BZ0', 33.3     , 12.3      ) ('BZ1', 21.811594,  3.3567224)\n",
      " ('BZ2', 20.66714 ,  2.5327938) ('BZ3', 18.208166,  6.9989777)\n",
      " ('BZ4', 14.622939, 17.011198 ) ('BZ5', 20.6     , -0.2      )\n",
      " ('BZ6', 11.415069, 29.305658 ) ('BZ7', 10.839968, 38.986664 )\n",
      " ('BZ8',  6.5     , 46.4      ) ('BZ9', 14.401249, 42.790424 )\n",
      " ('BZ10', 21.642147, 41.043835 ) ('BZ11', 35.4     , 33.9      )]\n"
     ]
    }
   ],
   "source": [
    "# Ahora hay que meter estos puntos en el xml\n",
    "\n",
    "# Añadimos una columna de ceros donde meteremos los nombres\n",
    "Columna_nombres = np.zeros(Puntos_Bezier.shape[0], dtype=object)  # Cambiado a un vector de tamaño adecuado\n",
    "\n",
    "dtype = [('nombre', 'U10'), ('x', 'f4'), ('y', 'f4')]  # U10 para string, f4 para float\n",
    "\n",
    "# Concatenar la columna de nombres y Puntos_Bezier\n",
    "resultado = np.empty(len(Columna_nombres), dtype=dtype)  # Crear un array vacío del tipo correcto\n",
    "resultado['nombre'] = Columna_nombres  # Asignar la columna de nombres\n",
    "resultado['x'] = Puntos_Bezier[:, 0]  # Asignar la columna x\n",
    "resultado['y'] = Puntos_Bezier[:, 1]  # Asignar la columna y\n",
    "\n",
    "unchanged_array = np.zeros(len(unchangedpoints), dtype=dtype)\n",
    "\n",
    "# Ponemos el nombre en la columna correspondiente\n",
    "for i in range(len(resultado)):\n",
    "    resultado[i]['nombre'] = f'BZ{i}'\n",
    "print(resultado)\n",
    "\n",
    "# Rellenamos este array\n",
    "for i, (nombre, x_str, y_str) in enumerate(unchangedpoints):\n",
    "    unchanged_array[i] = (nombre, float(x_str), float(y_str)) \n"
   ]
  },
  {
   "cell_type": "code",
   "execution_count": 27,
   "id": "8cf46e3b-0ecd-4917-9b31-60ff969a0904",
   "metadata": {},
   "outputs": [
    {
     "name": "stdout",
     "output_type": "stream",
     "text": [
      "Waypoints reescritos y guardados\n"
     ]
    }
   ],
   "source": [
    "#Si se añade para que vaya más de un barco esto habrá que modificarlo para que cree diferentes archivos\n",
    "# Reescribir todos los waypoints organizados desde 'resultados'\n",
    "\n",
    "for name, x, y in resultado:\n",
    "    new_waypoint = ET.Element('waypoint', name=name, x=str(x), y=str(y))\n",
    "    way_points.append(new_waypoint)\n",
    "for name, x, y in unchangedpoints:\n",
    "    new_unchanged = ET.Element('waypoint', name=name, x=str(x), y=str(y))\n",
    "    way_points.append(new_unchanged)\n",
    "\n",
    "# Función para formatear el XML\n",
    "def prettify(element):\n",
    "    \"\"\" Devuelve una versión 'bonita' del XML \"\"\"\n",
    "    rough_string = ET.tostring(element, 'utf-8')\n",
    "    reparsed = minidom.parseString(rough_string)\n",
    "    return reparsed.toprettyxml(indent=\"  \")\n",
    "\n",
    "# Guardar los cambios en el archivo XML\n",
    "with open('/home/dacya-iagesbloom/Documents/paparazzi/conf/flight_plans/UCM/PRUEBA_BZ_V4_optimizado.xml', 'w', encoding='utf-8') as f:\n",
    "    f.write('<!DOCTYPE flight_plan SYSTEM \"../flight_plan.dtd\">\\n')\n",
    "    f.write(prettify(root))\n",
    "\n",
    "print(\"Waypoints reescritos y guardados\")"
   ]
  },
  {
   "cell_type": "code",
   "execution_count": null,
   "id": "b0226549-288d-4ecb-b583-45dd0db8c919",
   "metadata": {},
   "outputs": [],
   "source": []
  },
  {
   "cell_type": "code",
   "execution_count": 28,
   "id": "26d0a38f-7ace-4cde-8500-76537098b4df",
   "metadata": {},
   "outputs": [
    {
     "data": {
      "image/png": "[encoded data removed]",
      "text/plain": [
       "<Figure size 400x400 with 1 Axes>"
      ]
     },
     "metadata": {},
     "output_type": "display_data"
    }
   ],
   "source": [
    "import numpy as np\n",
    "import matplotlib.pyplot as plt\n",
    "\n",
    "x = Puntos_Bezier[:, 0]\n",
    "y = Puntos_Bezier[:, 1]\n",
    "#x = np.concatenate((Puntos_control[:, 0], Puntos_paso[:, 0]))\n",
    "#y = np.concatenate((Puntos_control[:, 1], Puntos_paso[:, 1]))\n",
    "#z = np.random.random_sample((3,))\n",
    "\n",
    "CELLS = 10\n",
    "nCPTS = np.size(x, 0)\n",
    "n = nCPTS - 1 # numero total de segmentos\n",
    "i = 0\n",
    "t = np.linspace(0, 1, CELLS) # VARIABLE PARAMETRICA\n",
    "B = []\n",
    "\n",
    "xBezier = np.zeros((1, CELLS))\n",
    "yBezier = np.zeros((1, CELLS))\n",
    "#zBezier = np.zeros((1, CELLS))\n",
    "\n",
    "def Ni(n, i):\n",
    "    return np.math.factorial(n) / (np.math.factorial(i) * np.math.factorial(n - i))\n",
    "\n",
    "def basisFunction(n, i, t):\n",
    "    J = np.array(Ni(n, i) * (t ** i) * (1 - t) ** (n - i))\n",
    "    return J\n",
    "\n",
    "for k in range(0, nCPTS):\n",
    "    B.append(basisFunction(n, i, t))\n",
    "\n",
    "    xBezier = basisFunction(n, i, t) * x[k] + xBezier\n",
    "    yBezier = basisFunction(n, i, t) * y[k] + yBezier\n",
    "    #zBezier = basisFunction(n, i, t) * z[k] + zBezier\n",
    "\n",
    "    i += 1\n",
    "\n",
    "'''for line in B:\n",
    "    plt.plot(t, line)'''\n",
    "\n",
    "fig1 = plt.figure(figsize=(4, 4))\n",
    "ax1 = fig1.add_subplot(111)\n",
    "ax1.scatter(x, y, c='black')\n",
    "ax1.plot(xBezier[0], yBezier[0], c='blue')\n",
    "\n",
    "plt.show()"
   ]
  },
  {
   "cell_type": "code",
   "execution_count": 22,
   "id": "fd100fd4-00ba-4e25-8be8-7c6b34d0fa91",
   "metadata": {},
   "outputs": [
    {
     "data": {
      "text/plain": [
       "array([40.45075226, 32.88956859, 36.61621596, 39.2188458 , 40.5188077 ,\n",
       "       40.45091629, 40.8678261 , 40.79348768, 40.45085526, 40.6475169 ,\n",
       "       40.54575625, 40.45094299])"
      ]
     },
     "execution_count": 22,
     "metadata": {},
     "output_type": "execute_result"
    }
   ],
   "source": [
    "x"
   ]
  },
  {
   "cell_type": "code",
   "execution_count": 23,
   "id": "f05fb16a-e8d7-4f38-93a9-0366bba91cbe",
   "metadata": {},
   "outputs": [
    {
     "data": {
      "text/plain": [
       "array([[40.45075226, -3.727175  ],\n",
       "       [32.88956859, -3.03051075],\n",
       "       [36.61621596, -3.37389937],\n",
       "       [39.2188458 , -3.61369743],\n",
       "       [40.5188077 , -3.73344232],\n",
       "       [40.45091629, -3.72725105],\n",
       "       [40.8678261 , -3.76555482],\n",
       "       [40.79348768, -3.75866609],\n",
       "       [40.45085526, -3.7270689 ],\n",
       "       [40.6475169 , -3.74519693],\n",
       "       [40.54575625, -3.73582049],\n",
       "       [40.45094299, -3.7270999 ]])"
      ]
     },
     "execution_count": 23,
     "metadata": {},
     "output_type": "execute_result"
    }
   ],
   "source": [
    "Puntos_Bezier"
   ]
  },
  {
   "cell_type": "code",
   "execution_count": 24,
   "id": "b1b5e807-4db4-40a4-a905-423dc2466b09",
   "metadata": {},
   "outputs": [
    {
     "data": {
      "image/png": "[encoded data removed]",
      "text/plain": [
       "<Figure size 640x480 with 1 Axes>"
      ]
     },
     "metadata": {},
     "output_type": "display_data"
    }
   ],
   "source": [
    "import numpy as np\n",
    "import matplotlib.pyplot as plt\n",
    "\n",
    "# Definición de puntos de paso y puntos de control\n",
    "Puntos_paso = np.array([[-9.3, 30.3], [-4.6, 38.1], [3.1, 31.2], [-1.8, 22.]], dtype=np.float32)\n",
    "Puntos_control = Puntos_control\n",
    "\n",
    "# Función para calcular la curva de Bézier\n",
    "def bezier_curve(P0, P1, P2, P3, t):\n",
    "    return (1-t)[:, np.newaxis]**3 * P0 + 3 * (1-t)[:, np.newaxis]**2 * t[:, np.newaxis] * P1 + 3 * (1-t)[:, np.newaxis] * t[:, np.newaxis]**2 * P2 + t[:, np.newaxis]**3 * P3\n",
    "\n",
    "# Crear un array para almacenar la curva completa\n",
    "curva_completa = np.empty((0, 2))\n",
    "\n",
    "# Primer segmento (con 4 puntos de control)\n",
    "P0 = Puntos_paso[0]\n",
    "P1, P2, P3, P4 = Puntos_control[0:4]\n",
    "t = np.linspace(0, 1, 100)\n",
    "curva = bezier_curve(P0, P1, P2, P3, t)  # BZ0 a BZ5 con 4 puntos de control\n",
    "curva_completa = np.vstack((curva_completa, curva))\n",
    "\n",
    "# Segmentar las curvas para los siguientes puntos de paso (con 2 puntos de control por cada paso)\n",
    "for i in range(1, len(Puntos_paso) - 1):\n",
    "    P0 = Puntos_paso[i]\n",
    "    P1, P2 = Puntos_control[2*(i-1) + 4: 2*(i-1) + 6]  # Dos puntos de control por cada paso\n",
    "    t = np.linspace(0, 1, 100)\n",
    "    curva = bezier_curve(P0, P1, P2, Puntos_paso[i+1], t)  # Calcula la curva para el siguiente paso\n",
    "    curva_completa = np.vstack((curva_completa, curva))\n",
    "\n",
    "# Manejar el último segmento (último punto de paso)\n",
    "P0 = Puntos_paso[-1]\n",
    "P1, P2 = Puntos_control[-2:]  # Últimos 2 puntos de control\n",
    "curva = bezier_curve(P0, P1, P2, P0, t)  # Último segmento (sin siguiente paso)\n",
    "curva_completa = np.vstack((curva_completa, curva))\n",
    "\n",
    "# Graficar la curva completa\n",
    "plt.figure()\n",
    "plt.plot(curva_completa[:, 0], curva_completa[:, 1], c='blue', label='Curva de Bézier')\n",
    "\n",
    "# Graficar los puntos de paso\n",
    "plt.scatter(Puntos_paso[:, 0], Puntos_paso[:, 1], color='red', label='Puntos de Paso')\n",
    "\n",
    "# Graficar los puntos de control\n",
    "plt.scatter(Puntos_control[:, 0], Puntos_control[:, 1], color='green', label='Puntos de Control')\n",
    "\n",
    "plt.legend()\n",
    "plt.title('Curva de Bézier Continua')\n",
    "plt.xlabel('X')\n",
    "plt.ylabel('Y')\n",
    "plt.grid()\n",
    "plt.axis('equal')\n",
    "plt.show()\n"
   ]
  },
  {
   "cell_type": "code",
   "execution_count": 25,
   "id": "ea250756-83d3-4a0e-ad7a-c3fc1c2079bf",
   "metadata": {},
   "outputs": [
    {
     "data": {
      "text/plain": [
       "array([[-9.3, 30.3],\n",
       "       [-4.6, 38.1],\n",
       "       [ 3.1, 31.2],\n",
       "       [-1.8, 22. ]], dtype=float32)"
      ]
     },
     "execution_count": 25,
     "metadata": {},
     "output_type": "execute_result"
    }
   ],
   "source": [
    "Puntos_paso\n"
   ]
  },
  {
   "cell_type": "code",
   "execution_count": 26,
   "id": "fb8dfd57-8f88-479b-87ba-20c6e7ddd0e3",
   "metadata": {},
   "outputs": [
    {
     "data": {
      "text/plain": [
       "array([[32.88956859, -3.03051075],\n",
       "       [36.61621596, -3.37389937],\n",
       "       [39.2188458 , -3.61369743],\n",
       "       [40.5188077 , -3.73344232],\n",
       "       [40.8678261 , -3.76555482],\n",
       "       [40.79348768, -3.75866609],\n",
       "       [40.6475169 , -3.74519693],\n",
       "       [40.54575625, -3.73582049]])"
      ]
     },
     "execution_count": 26,
     "metadata": {},
     "output_type": "execute_result"
    }
   ],
   "source": [
    "Puntos_control"
   ]
  },
  {
   "cell_type": "code",
   "execution_count": null,
   "id": "357b2c92-9ef4-48c4-9aa3-8a1a554d3fb7",
   "metadata": {},
   "outputs": [],
   "source": []
  },
  {
   "cell_type": "code",
   "execution_count": null,
   "id": "ede8663d-20de-46c3-a2c3-d14bcb9dd3fd",
   "metadata": {},
   "outputs": [],
   "source": []
  }
 ],
 "metadata": {
  "kernelspec": {
   "display_name": "Python 3 (ipykernel)",
   "language": "python",
   "name": "python3"
  },
  "language_info": {
   "codemirror_mode": {
    "name": "ipython",
    "version": 3
   },
   "file_extension": ".py",
   "mimetype": "text/x-python",
   "name": "python",
   "nbconvert_exporter": "python",
   "pygments_lexer": "ipython3",
   "version": "3.8.10"
  }
 },
 "nbformat": 4,
 "nbformat_minor": 5
}
