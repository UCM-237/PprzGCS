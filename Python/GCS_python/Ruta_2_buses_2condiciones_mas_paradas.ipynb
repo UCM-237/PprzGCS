{
 "cells": [
  {
   "cell_type": "code",
   "execution_count": 7,
   "id": "69a0868a-ae9c-4cf5-9289-f9169a242bee",
   "metadata": {},
   "outputs": [
    {
     "name": "stdout",
     "output_type": "stream",
     "text": [
      "[['40.450733' '-3.727176']\n",
      " ['40.4508069' '-3.7271789']\n",
      " ['40.4508339' '-3.7271789']\n",
      " ['40.4508959' '-3.727143']\n",
      " ['40.4509399' '-3.727133']\n",
      " ['40.4509659' '-3.7271581']\n",
      " ['40.4509759' '-3.727266']\n",
      " ['40.4509199' '-3.727275']\n",
      " ['40.450878' '-3.727239']\n",
      " ['40.450783' '-3.727179']\n",
      " ['40.4507759' '-3.727163']\n",
      " ['40.4507369' '-3.7271539']\n",
      " ['40.4507289' '-3.727155']\n",
      " ['-0.0' '-0.0']]\n"
     ]
    }
   ],
   "source": [
    "#DATOS\n",
    "import random\n",
    "import numpy as np\n",
    "import pandas as pd\n",
    "import xml.etree.ElementTree as ET\n",
    "from xml.dom import minidom\n",
    "tree = ET.parse(f'/home/dacya-iagesbloom/Documents/paparazzi/conf/flight_plans/UCM/steering_rover_gvfMission_parametric_bare.xml')\n",
    "root = tree.getroot()\n",
    "        \n",
    "# Encontrar todos los waypoints\n",
    "way_points = root.find('waypoints')\n",
    "waypoint_list = []\n",
    "unchanged_points = []\n",
    "sector=[]\n",
    "home=[]\n",
    "#RECORDATORIO CHECKPOINT: EL CÓDIGO ESTABA HECHO PARA DECLARAR LAS VARIABLES CON X,Y NO CON LON LAT. EL PROBLEMA VIENE DE QUE CON\n",
    "#EL FLIGHT_PLAN HECHO POR MI EL SIMULADOR NO SIGUE BIEN LA RUTA. POR TANTO, ESTOY PROBANDO CON UNO QUE (A VECES) SÍ QUE HACE BIEN \n",
    "#LA RUTA. PERO HAY QUE O PASAR LON Y LAT A X E Y O QUE SEA CAPAZ DE LEER LON, LAT\n",
    "\n",
    "# Almacenar los waypoints existentes en una lista\n",
    "for waypoint in way_points.findall('waypoint'):\n",
    "    name = waypoint.get('name')\n",
    "    #print(name)\n",
    "    if name.startswith('BZ'):\n",
    "        lat = float(waypoint.get('lat'))\n",
    "        lon = float(waypoint.get('lon'))\n",
    "        #x = float(waypoint.get('x'))\n",
    "        #y = float(waypoint.get('y'))\n",
    "        #print(waypoint.get('lat'))\n",
    "        #print(lon)\n",
    "        #print(type(lat))\n",
    "        #waypoint_list.append((name, x, y))\n",
    "        waypoint_list.append((name, lat, lon))\n",
    "    elif name.startswith('_S'):\n",
    "        x = float(waypoint.get('x'))\n",
    "        y = float(waypoint.get('y'))\n",
    "        sector.append((name, x, y))\n",
    "    else:\n",
    "        x = float(waypoint.get('x'))\n",
    "        y = float(waypoint.get('y'))\n",
    "        unchanged_points.append((name, x, y))\n",
    "        if name == \"HOME\":\n",
    "            home.append((name, x, y))\n",
    "        #print(unchanged_points)\n",
    "        \n",
    "#Limpiamos way_points\n",
    "way_points.clear()\n",
    "\n",
    "def calcular_centroide(vertices):\n",
    "            \n",
    "            # Inicializar las sumas\n",
    "            suma_x = 0\n",
    "            suma_y = 0\n",
    "            area = 0\n",
    "        \n",
    "            # Calcular el área y las coordenadas del centroide\n",
    "            for i in range(len(vertices)):\n",
    "                x1, y1 = vertices[i]\n",
    "                x2, y2 = vertices[(i + 1) % len(vertices)]  # siguiente punto, con wrap-around\n",
    "                factor = x1 * y2 - x2 * y1\n",
    "                area += factor\n",
    "                suma_x += (x1 + x2) * factor\n",
    "                suma_y += (y1 + y2) * factor\n",
    "        \n",
    "            area /= 2\n",
    "            if area == 0:\n",
    "                raise ValueError(\"El área del polígono es cero; asegúrate de que el polígono es válido.\")\n",
    "        \n",
    "            # Calcular las coordenadas del centroide\n",
    "            centroide_x = suma_x / (6 * area)\n",
    "            centroide_y = suma_y / (6 * area)\n",
    "        \n",
    "            return (centroide_x, centroide_y)\n",
    "sector=np.array(sector)\n",
    "vertices=sector[:,-2:].astype(float)\n",
    "#print(vertices)\n",
    "Centroide = calcular_centroide(vertices)\n",
    "#Convertimos tanto la lista de waypoints como unchanged en una lista y las unimos\n",
    "waypoints = np.array([[nombre, lat, lon] for nombre, lat, lon in waypoint_list])\n",
    "unchangedpoints = np.array([[nombre, x, y] for nombre, x, y in unchanged_points])\n",
    "sector = np.array([[nombre, x, y] for nombre, x, y in sector])\n",
    "points = np.concatenate((waypoints, unchangedpoints), axis=0)\n",
    "\n",
    "\n",
    "#Definimos una matriz unicamente con las coordenadas de cada parada:\n",
    "paradas = np.vstack((waypoints[:,-2:], Centroide))\n",
    "print(paradas)\n",
    "#Definimos parámetros del barco\n",
    "velocidad_media = 40"
   ]
  },
  {
   "cell_type": "code",
   "execution_count": 8,
   "id": "9af17b61-841d-42bf-8cb3-59ccf3c3c4f9",
   "metadata": {},
   "outputs": [],
   "source": [
    "#Para poner la parada 0 al principio\n",
    "\n",
    "import numpy as np\n",
    "from pymoo.core.repair import Repair\n",
    "#%matplotlib inline\n",
    "\n",
    "class StartFromZeroRepair(Repair):\n",
    "\n",
    "    def _do(self, problem, X, **kwargs):\n",
    "        I = np.where(X == 0)[1]\n",
    "\n",
    "        for k in range(len(X)):\n",
    "            i = I[k]\n",
    "            X[k] = np.concatenate([X[k, i:], X[k, :i]])\n",
    "\n",
    "        return X"
   ]
  },
  {
   "cell_type": "code",
   "execution_count": 9,
   "id": "4beaf76f-cb53-41a2-be6a-dab0ac79d2bf",
   "metadata": {},
   "outputs": [],
   "source": [
    "import matplotlib\n",
    "matplotlib.use('Qt5Agg')  # Cambia el backend a TkAgg para mostrar ventanas gráficas\n",
    "import matplotlib.pyplot as plt\n",
    "import numpy as np\n",
    "from scipy.spatial.distance import cdist\n",
    "\n",
    "from pymoo.core.problem import ElementwiseProblem\n",
    "\n",
    "\n",
    "class RUTA (ElementwiseProblem):\n",
    "\n",
    "    def __init__(self, **kwargs):\n",
    "\n",
    "        n_stops, _ = stops.shape #Aquí coge las filas (Por tanto el número de paradas)\n",
    "        #n_stops=n_stops-1\n",
    "        self.stops = stops\n",
    "        self.D = cdist(stops, stops)\n",
    "\n",
    "        super(RUTA, self).__init__(\n",
    "            n_var=n_stops,\n",
    "            n_obj=2,\n",
    "            n_constr=2,\n",
    "            xl=0,\n",
    "            xu=len(stops),\n",
    "            vtype=int,\n",
    "            **kwargs\n",
    "        )\n",
    "\n",
    "    def _evaluate(self, x, out, *args, **kwargs):\n",
    "        distancia=self.get_route_length(x)\n",
    "        tiempo=self.get_route_length(x)/velocidad_media\n",
    "        out['F'] = [distancia, tiempo]\n",
    "\n",
    "        #Voy a poner aquí las restricciones\n",
    "        #Restricciones\n",
    "        \n",
    "        Max_dist=self.get_route_length(x)-250\n",
    "        \n",
    "        Max_tiempo=self.get_route_length(x)/velocidad_media-250\n",
    "\n",
    "        x_ord=np.sort(x)\n",
    "        penalty_paradas=0\n",
    "        for i in range(len(x_ord)-1):\n",
    "            if x_ord[i] == x_ord[i+1]:\n",
    "                penalty_paradas=10000\n",
    "                \n",
    "        out[\"G\"]=[Max_dist, Max_tiempo + penalty_paradas]\n",
    "        \n",
    "    def get_route_length(self, x):\n",
    "        n_stops = len(x)\n",
    "        dist = 0\n",
    "        for k in range(n_stops - 1):\n",
    "            i, j = x[k], x[k + 1]\n",
    "            dist += self.D[i, j]\n",
    "        return dist\n",
    "\n",
    "\n",
    "def visualize_3(problem, x, n, fig=None, ax=None, show=True, label=True):\n",
    " with plt.style.context('ggplot'):\n",
    "        x=x[0]\n",
    "        if fig is None or ax is None:\n",
    "            fig, ax = plt.subplots()\n",
    "\n",
    "        # plot cities using scatter plot\n",
    "        ax.scatter(problem.stops[:, 0], problem.stops[:, 1], s=150)\n",
    "        if label:\n",
    "            # annotate cities\n",
    "            for i, c in enumerate(problem.stops):\n",
    "                ax.annotate(str(i), xy=c, fontsize=10, ha=\"center\", va=\"center\", color=\"white\")\n",
    "\n",
    "        # plot the line on the path\n",
    "        for i in range(len(x)-1):\n",
    "            current = x[i]\n",
    "            next_ = x[(i + 1)]\n",
    "            ax.plot(problem.stops[[current, next_], 0], problem.stops[[current, next_], 1], 'r--')\n",
    "\n",
    "        fig.suptitle(f\"Route length: {problem.get_route_length(x)}km \\nRoute time: {problem.get_route_length(x)*60/velocidad_media}min\")\n",
    "\n",
    "        if show:\n",
    "            fig.show()\n",
    "\n",
    "            X, F = res.opt.get(\"X\", \"F\")\n",
    "    \n",
    "        from pymoo.visualization.scatter import Scatter\n",
    "        \n",
    "        plot = Scatter()\n",
    "        plot.add(problem.pareto_front(), plot_type=\"line\", color=\"black\", alpha=0.7)\n",
    "        plot.add(res.F, facecolor=\"none\", edgecolor=\"red\")\n",
    "        %matplotlib inline\n",
    "        plot.show()\n"
   ]
  },
  {
   "cell_type": "code",
   "execution_count": 10,
   "id": "6269c3e8-9a03-460e-866b-6a908426e154",
   "metadata": {},
   "outputs": [],
   "source": [
    "#Para en caso en el que tengamos más de un barco hará un clustering con kmeans para clasificar las diferentes paradas\n",
    "\n",
    "n_barcos = 4\n",
    "\n",
    "from sklearn.cluster import KMeans\n",
    "from sklearn.preprocessing import scale\n",
    "from sklearn.metrics import silhouette_score\n",
    "\n",
    "import matplotlib.pyplot as plt\n",
    "from matplotlib import style\n",
    "style.use('ggplot') or plt.style.use('ggplot')\n",
    "\n",
    "x_k, y=paradas[0], paradas[1]\n",
    "X_scaled = scale(paradas)\n",
    "modelo_kmeans = KMeans(n_clusters=n_barcos, n_init=25, random_state=123)\n",
    "modelo_kmeans.fit(X=X_scaled)\n",
    "\n",
    "# Clasificación con el modelo kmeans\n",
    "\n",
    "y_predict = modelo_kmeans.predict(X=X_scaled)\n",
    "\n",
    "#Representación\n",
    "fig, ax = plt.subplots(1, 1, figsize=(10, 4))\n",
    "\n",
    "for i in np.unique(y_predict):\n",
    "    ax.scatter(\n",
    "        x = X_scaled[y_predict == i, 0],\n",
    "        y = X_scaled[y_predict == i, 1], \n",
    "        c = plt.rcParams['axes.prop_cycle'].by_key()['color'][i],\n",
    "        marker    = 'o',\n",
    "        edgecolor = 'black', \n",
    "        label= f\"Cluster {i}\"\n",
    "    )\n",
    "    \n",
    "ax.scatter(\n",
    "    x = modelo_kmeans.cluster_centers_[:, 0],\n",
    "    y = modelo_kmeans.cluster_centers_[:, 1], \n",
    "    c = 'black',\n",
    "    s = 40,\n",
    "    marker = 'o',\n",
    "    label  = 'centroides'\n",
    ")\n",
    "ax.set_title('Clusters generados por Kmeans')\n",
    "ax.legend();"
   ]
  },
  {
   "cell_type": "code",
   "execution_count": 15,
   "id": "97d8fd5c-eced-4e86-a879-3280925967b8",
   "metadata": {},
   "outputs": [
    {
     "data": {
      "text/plain": [
       "(0, 2, 3)"
      ]
     },
     "execution_count": 15,
     "metadata": {},
     "output_type": "execute_result"
    }
   ],
   "source": [
    "stops.shape"
   ]
  },
  {
   "cell_type": "code",
   "execution_count": 16,
   "id": "8ac7f0d9-d388-45e4-90db-a839ace671c3",
   "metadata": {},
   "outputs": [
    {
     "data": {
      "text/plain": [
       "array([], shape=(0, 2, 3), dtype='<U32')"
      ]
     },
     "execution_count": 16,
     "metadata": {},
     "output_type": "execute_result"
    }
   ],
   "source": [
    "stops"
   ]
  },
  {
   "cell_type": "code",
   "execution_count": 11,
   "id": "964ca86a-4ae4-49e9-97ad-8870e69baace",
   "metadata": {},
   "outputs": [
    {
     "name": "stdout",
     "output_type": "stream",
     "text": [
      "0\n",
      "1\n",
      "2\n",
      "3\n"
     ]
    },
    {
     "name": "stderr",
     "output_type": "stream",
     "text": [
      "/tmp/ipykernel_66857/758975878.py:18: FutureWarning: elementwise comparison failed; returning scalar instead, but in the future will perform elementwise comparison\n",
      "  rutas[f\"ruta_{i}\"]=grupos_finales[grupos_finales[:,2]==i][:,:2]\n"
     ]
    },
    {
     "ename": "ValueError",
     "evalue": "too many values to unpack (expected 2)",
     "output_type": "error",
     "traceback": [
      "\u001b[0;31m---------------------------------------------------------------------------\u001b[0m",
      "\u001b[0;31mValueError\u001b[0m                                Traceback (most recent call last)",
      "Cell \u001b[0;32mIn[11], line 24\u001b[0m\n\u001b[1;32m     22\u001b[0m stops\u001b[38;5;241m=\u001b[39mrutas[\u001b[38;5;124mf\u001b[39m\u001b[38;5;124m\"\u001b[39m\u001b[38;5;124mruta_\u001b[39m\u001b[38;5;132;01m{\u001b[39;00mi\u001b[38;5;132;01m}\u001b[39;00m\u001b[38;5;124m\"\u001b[39m]\n\u001b[1;32m     23\u001b[0m n_stops\u001b[38;5;241m=\u001b[39m\u001b[38;5;28mlen\u001b[39m(stops)\n\u001b[0;32m---> 24\u001b[0m problem \u001b[38;5;241m=\u001b[39m \u001b[43mRUTA\u001b[49m\u001b[43m(\u001b[49m\u001b[43m)\u001b[49m\n\u001b[1;32m     27\u001b[0m \u001b[38;5;28;01mclass\u001b[39;00m \u001b[38;5;21;01mCustomSampling\u001b[39;00m(Sampling):\n\u001b[1;32m     28\u001b[0m     \u001b[38;5;28;01mdef\u001b[39;00m \u001b[38;5;21m_do\u001b[39m(\u001b[38;5;28mself\u001b[39m, problem, n_samples, \u001b[38;5;241m*\u001b[39m\u001b[38;5;241m*\u001b[39mkwargs):\n\u001b[1;32m     29\u001b[0m         \u001b[38;5;66;03m# Generar n_samples rutas aleatorias\u001b[39;00m\n",
      "Cell \u001b[0;32mIn[9], line 14\u001b[0m, in \u001b[0;36mRUTA.__init__\u001b[0;34m(self, **kwargs)\u001b[0m\n\u001b[1;32m     12\u001b[0m \u001b[38;5;28;01mdef\u001b[39;00m \u001b[38;5;21m__init__\u001b[39m(\u001b[38;5;28mself\u001b[39m, \u001b[38;5;241m*\u001b[39m\u001b[38;5;241m*\u001b[39mkwargs):\n\u001b[0;32m---> 14\u001b[0m     n_stops, _ \u001b[38;5;241m=\u001b[39m stops\u001b[38;5;241m.\u001b[39mshape \u001b[38;5;66;03m#Aquí coge las filas (Por tanto el número de paradas)\u001b[39;00m\n\u001b[1;32m     15\u001b[0m     \u001b[38;5;66;03m#n_stops=n_stops-1\u001b[39;00m\n\u001b[1;32m     16\u001b[0m     \u001b[38;5;28mself\u001b[39m\u001b[38;5;241m.\u001b[39mstops \u001b[38;5;241m=\u001b[39m stops\n",
      "\u001b[0;31mValueError\u001b[0m: too many values to unpack (expected 2)"
     ]
    }
   ],
   "source": [
    "from pymoo.algorithms.moo.nsga2 import NSGA2\n",
    "from pymoo.optimize import minimize\n",
    "from pymoo.problems.single.traveling_salesman import create_random_tsp_problem\n",
    "from pymoo.operators.sampling.rnd import PermutationRandomSampling\n",
    "from pymoo.operators.crossover.ox import OrderCrossover\n",
    "from pymoo.operators.mutation.inversion import InversionMutation\n",
    "from pymoo.termination.default import DefaultSingleObjectiveTermination\n",
    "from pymoo.operators.mutation.bitflip import BitflipMutation\n",
    "\n",
    "#Creamos un diccionario para almacenar cada ruta\n",
    "rutas={}\n",
    "stops=paradas\n",
    "fitness=[]\n",
    "for i in range(n_barcos):\n",
    "    print(i)\n",
    "    grupos_finales=np.array([stops[:,0].T, stops[:,1].T, y_predict])\n",
    "    grupos_finales=grupos_finales.T\n",
    "    rutas[f\"ruta_{i}\"]=grupos_finales[grupos_finales[:,2]==i][:,:2]\n",
    "from pymoo.core.sampling import Sampling\n",
    "for i in range(n_barcos):\n",
    "\n",
    "    stops=rutas[f\"ruta_{i}\"]\n",
    "    n_stops=len(stops)\n",
    "    problem = RUTA()\n",
    "\n",
    "        \n",
    "    class CustomSampling(Sampling):\n",
    "        def _do(self, problem, n_samples, **kwargs):\n",
    "            # Generar n_samples rutas aleatorias\n",
    "            samples = []\n",
    "            for _ in range(n_samples):\n",
    "                # Crear una ruta aleatoria (permutación de las paradas)\n",
    "                route = np.random.permutation(n_stops)\n",
    "                #print(f\"n_paradas {n_stops}\")\n",
    "                samples.append(route)\n",
    "                #print(f\"samples {samples}\")\n",
    "            return np.array(samples)\n",
    "\n",
    "    sampling=CustomSampling()  \n",
    "    algorithm = NSGA2(\n",
    "        pop_size=20,\n",
    "        sampling=sampling,\n",
    "        mutation=InversionMutation(),\n",
    "        #mutation=BitflipMutation(),\n",
    "        crossover=OrderCrossover(),\n",
    "        repair=StartFromZeroRepair(),\n",
    "        eliminate_duplicates=True,\n",
    "        save_history=True,\n",
    "        #verbose=True\n",
    "    )\n",
    "    \n",
    "    # if the algorithm did not improve the last 200 generations then it will terminate (and disable the max generations)\n",
    "    #termination = DefaultSingleObjectiveTermination(period=200, n_max_gen=np.inf)\n",
    "    \n",
    "    res = minimize(\n",
    "        problem,\n",
    "        algorithm,\n",
    "        termination=('n_gen',100),\n",
    "        seed=1,\n",
    "        verbose=False,\n",
    "    )\n",
    "    print(\"Maximum Span:\", np.round(res.F[0], 3))\n",
    "    print(\"Function Evaluations:\", res.algorithm.evaluator.n_eval)\n",
    "    print(res.X)\n",
    "    %matplotlib inline\n",
    "    visualize_3(problem, res.X, n_barcos)\n",
    "    \n"
   ]
  },
  {
   "cell_type": "code",
   "execution_count": null,
   "id": "c079f600-5a74-416c-855b-8efb7d4c8c79",
   "metadata": {},
   "outputs": [],
   "source": [
    "hist = res.history\n",
    "print(len(hist))\n",
    "\n",
    "n_evals = []             # corresponding number of function evaluations\n",
    "hist_F = []              # the objective space values in each generation\n",
    "hist_cv = []             # constraint violation in each generation\n",
    "hist_cv_avg = []         # average constraint violation in the whole population\n",
    "\n",
    "for algo in hist:\n",
    "    # store the number of function evaluations\n",
    "    n_evals.append(algo.evaluator.n_eval)\n",
    "\n",
    "    # retrieve the optimum from the algorithm\n",
    "    opt = algo.opt\n",
    "\n",
    "    # store the least contraint violation and the average in each population\n",
    "    hist_cv.append(opt.get(\"CV\").min())\n",
    "    hist_cv_avg.append(algo.pop.get(\"CV\").mean())\n",
    "\n",
    "    # filter out only the feasible and append and objective space values\n",
    "    feas = np.where(opt.get(\"feasible\"))[0]\n",
    "    hist_F.append(opt.get(\"F\")[feas])\n",
    "\n",
    "# Obtén F después del ciclo\n",
    "F = np.concatenate(hist_F)  # Concatenar todos los valores de F\n",
    "\n",
    "approx_ideal = F.min(axis=0)\n",
    "approx_nadir = F.max(axis=0)\n",
    "\n",
    "from pymoo.indicators.hv import Hypervolume\n",
    "\n",
    "metric = Hypervolume(ref_point= np.array([1.1, 1.1]),\n",
    "                     norm_ref_point=False,\n",
    "                     zero_to_one=True,\n",
    "                     ideal=approx_ideal,\n",
    "                     nadir=approx_nadir)\n",
    "\n",
    "hv = [metric.do(_F) for _F in hist_F]\n",
    "\n",
    "plt.figure(figsize=(7, 5))\n",
    "plt.plot(n_evals, hv, color='black', lw=0.7, label=\"Avg. CV of Pop\")\n",
    "plt.scatter(n_evals, hv, facecolor=\"none\", edgecolor='black', marker=\"p\")\n",
    "plt.title(\"Convergence\")\n",
    "plt.xlabel(\"Function Evaluations\")\n",
    "plt.ylabel(\"Hypervolume\")\n",
    "plt.show()\n"
   ]
  },
  {
   "cell_type": "code",
   "execution_count": 12,
   "id": "1b6a0987-c5a5-4855-9845-a422f6f32503",
   "metadata": {},
   "outputs": [
    {
     "ename": "NameError",
     "evalue": "name 'hist' is not defined",
     "output_type": "error",
     "traceback": [
      "\u001b[0;31m---------------------------------------------------------------------------\u001b[0m",
      "\u001b[0;31mNameError\u001b[0m                                 Traceback (most recent call last)",
      "Cell \u001b[0;32mIn[12], line 6\u001b[0m\n\u001b[1;32m      3\u001b[0m hist_cv \u001b[38;5;241m=\u001b[39m []             \u001b[38;5;66;03m# constraint violation in each generation\u001b[39;00m\n\u001b[1;32m      4\u001b[0m hist_cv_avg \u001b[38;5;241m=\u001b[39m []         \u001b[38;5;66;03m# average constraint violation in the whole population\u001b[39;00m\n\u001b[0;32m----> 6\u001b[0m \u001b[38;5;28;01mfor\u001b[39;00m algo \u001b[38;5;129;01min\u001b[39;00m \u001b[43mhist\u001b[49m:\n\u001b[1;32m      7\u001b[0m \n\u001b[1;32m      8\u001b[0m     \u001b[38;5;66;03m# store the number of function evaluations\u001b[39;00m\n\u001b[1;32m      9\u001b[0m     n_evals\u001b[38;5;241m.\u001b[39mappend(algo\u001b[38;5;241m.\u001b[39mevaluator\u001b[38;5;241m.\u001b[39mn_eval)\n\u001b[1;32m     11\u001b[0m     \u001b[38;5;66;03m# retrieve the optimum from the algorithm\u001b[39;00m\n",
      "\u001b[0;31mNameError\u001b[0m: name 'hist' is not defined"
     ]
    }
   ],
   "source": [
    "n_evals = []             # corresponding number of function evaluations\\\n",
    "hist_F = []              # the objective space values in each generation\n",
    "hist_cv = []             # constraint violation in each generation\n",
    "hist_cv_avg = []         # average constraint violation in the whole population\n",
    "\n",
    "for algo in hist:\n",
    "\n",
    "    # store the number of function evaluations\n",
    "    n_evals.append(algo.evaluator.n_eval)\n",
    "\n",
    "    # retrieve the optimum from the algorithm\n",
    "    opt = algo.opt\n",
    "\n",
    "    # store the least contraint violation and the average in each population\n",
    "    hist_cv.append(opt.get(\"CV\").min())\n",
    "    hist_cv_avg.append(algo.pop.get(\"CV\").mean())\n",
    "\n",
    "    # filter out only the feasible and append and objective space values\n",
    "    feas = np.where(opt.get(\"feasible\"))[0]\n",
    "    hist_F.append(opt.get(\"F\")[feas])"
   ]
  },
  {
   "cell_type": "code",
   "execution_count": null,
   "id": "c817f1ae-b5fc-4d0c-b1f2-964279b37e0d",
   "metadata": {},
   "outputs": [],
   "source": [
    "last_three_gen = hist_F[-3:]  # Últimas 3 generaciones\n",
    "gen_1 = hist_F[5]\n",
    "gen_75 = hist_F[75]\n",
    "gen_100 = hist_F[99]"
   ]
  },
  {
   "cell_type": "code",
   "execution_count": 13,
   "id": "0232714d-adf7-43ce-8298-2dab30ffcc3a",
   "metadata": {},
   "outputs": [
    {
     "ename": "NameError",
     "evalue": "name 'gen_1' is not defined",
     "output_type": "error",
     "traceback": [
      "\u001b[0;31m---------------------------------------------------------------------------\u001b[0m",
      "\u001b[0;31mNameError\u001b[0m                                 Traceback (most recent call last)",
      "Cell \u001b[0;32mIn[13], line 4\u001b[0m\n\u001b[1;32m      1\u001b[0m \u001b[38;5;66;03m# Crear la figura para plotear\u001b[39;00m\n\u001b[1;32m      2\u001b[0m plt\u001b[38;5;241m.\u001b[39mfigure(figsize\u001b[38;5;241m=\u001b[39m(\u001b[38;5;241m10\u001b[39m, \u001b[38;5;241m6\u001b[39m))\n\u001b[0;32m----> 4\u001b[0m plt\u001b[38;5;241m.\u001b[39mscatter(\u001b[43mgen_1\u001b[49m[:, \u001b[38;5;241m0\u001b[39m], gen_1[:, \u001b[38;5;241m1\u001b[39m], label\u001b[38;5;241m=\u001b[39m\u001b[38;5;124m'\u001b[39m\u001b[38;5;124mGeneración 1\u001b[39m\u001b[38;5;124m'\u001b[39m, s\u001b[38;5;241m=\u001b[39m\u001b[38;5;241m30\u001b[39m)\n\u001b[1;32m      5\u001b[0m plt\u001b[38;5;241m.\u001b[39mscatter(gen_75[:, \u001b[38;5;241m0\u001b[39m], gen_75[:, \u001b[38;5;241m1\u001b[39m], label\u001b[38;5;241m=\u001b[39m\u001b[38;5;124m'\u001b[39m\u001b[38;5;124mGeneración 75\u001b[39m\u001b[38;5;124m'\u001b[39m, s\u001b[38;5;241m=\u001b[39m\u001b[38;5;241m30\u001b[39m)\n\u001b[1;32m      6\u001b[0m plt\u001b[38;5;241m.\u001b[39mscatter(gen_100[:, \u001b[38;5;241m0\u001b[39m], gen_100[:, \u001b[38;5;241m1\u001b[39m], label\u001b[38;5;241m=\u001b[39m\u001b[38;5;124m'\u001b[39m\u001b[38;5;124mGeneración 100\u001b[39m\u001b[38;5;124m'\u001b[39m, s\u001b[38;5;241m=\u001b[39m\u001b[38;5;241m30\u001b[39m)\n",
      "\u001b[0;31mNameError\u001b[0m: name 'gen_1' is not defined"
     ]
    }
   ],
   "source": [
    "# Crear la figura para plotear\n",
    "plt.figure(figsize=(10, 6))\n",
    "\n",
    "plt.scatter(gen_1[:, 0], gen_1[:, 1], label='Generación 1', s=30)\n",
    "plt.scatter(gen_75[:, 0], gen_75[:, 1], label='Generación 75', s=30)\n",
    "plt.scatter(gen_100[:, 0], gen_100[:, 1], label='Generación 100', s=30)\n",
    "\n",
    "# Etiquetas y título del gráfico\n",
    "plt.title('Fitness de las Últimas 3 Generaciones en el Espacio Objetivo')\n",
    "plt.xlabel('Objetivo 1')\n",
    "plt.ylabel('Objetivo 2')\n",
    "plt.legend()\n",
    "plt.show()"
   ]
  },
  {
   "cell_type": "code",
   "execution_count": null,
   "id": "8484cda3-8db3-4060-a7f0-66161bf6a3cc",
   "metadata": {},
   "outputs": [],
   "source": [
    "from pymoo.core.population import Population\n",
    "import pandas as pd\n",
    "\n",
    "# Inicializar una población vacía para acumular los valores de fitness\n",
    "all_fitness = Population()\n",
    "\n",
    "# Recorrer el historial de generaciones\n",
    "for algorithm in res.history:\n",
    "    # En cada iteración, fusionamos los valores de fitness de la generación actual\n",
    "    all_fitness = Population.merge(all_fitness, algorithm.pop)  # 'algorithm.pop' contiene la población de la generación\n",
    "\n",
    "# Obtener los valores de fitness de todas las generaciones\n",
    "fitness_values = all_fitness.get(\"F\")  # \"F\" representa los valores de las funciones objetivo (fitness)\n",
    "\n",
    "# Convertir los valores de fitness en un DataFrame de pandas\n",
    "df_fitness = pd.DataFrame(fitness_values, columns=[f\"F{i+1}\" for i in range(problem.n_obj)])\n",
    "\n",
    "# Mostrar el DataFrame con los valores de fitness\n",
    "print(df_fitness)\n"
   ]
  },
  {
   "cell_type": "code",
   "execution_count": 14,
   "id": "4a83f597-1851-4af5-9663-c75c4691f3d0",
   "metadata": {},
   "outputs": [
    {
     "ename": "NameError",
     "evalue": "name 'res' is not defined",
     "output_type": "error",
     "traceback": [
      "\u001b[0;31m---------------------------------------------------------------------------\u001b[0m",
      "\u001b[0;31mNameError\u001b[0m                                 Traceback (most recent call last)",
      "Cell \u001b[0;32mIn[14], line 9\u001b[0m\n\u001b[1;32m      6\u001b[0m generations \u001b[38;5;241m=\u001b[39m []\n\u001b[1;32m      8\u001b[0m \u001b[38;5;66;03m# Recorrer el historial de generaciones\u001b[39;00m\n\u001b[0;32m----> 9\u001b[0m \u001b[38;5;28;01mfor\u001b[39;00m gen_idx, algorithm \u001b[38;5;129;01min\u001b[39;00m \u001b[38;5;28menumerate\u001b[39m(\u001b[43mres\u001b[49m\u001b[38;5;241m.\u001b[39mhistory):\n\u001b[1;32m     10\u001b[0m     \u001b[38;5;66;03m# Fusionar las soluciones (poblaciones) de cada generación\u001b[39;00m\n\u001b[1;32m     11\u001b[0m     all_fitness \u001b[38;5;241m=\u001b[39m Population\u001b[38;5;241m.\u001b[39mmerge(all_fitness, algorithm\u001b[38;5;241m.\u001b[39mpop)\n\u001b[1;32m     13\u001b[0m     \u001b[38;5;66;03m# Para cada solución en la población de esta generación, agregar el número de generación\u001b[39;00m\n",
      "\u001b[0;31mNameError\u001b[0m: name 'res' is not defined"
     ]
    }
   ],
   "source": [
    "from pymoo.core.population import Population\n",
    "import pandas as pd\n",
    "    \n",
    "# Inicializar una población vacía y una lista para almacenar las generaciones\n",
    "all_fitness = Population()\n",
    "generations = []\n",
    "\n",
    "# Recorrer el historial de generaciones\n",
    "for gen_idx, algorithm in enumerate(res.history):\n",
    "    # Fusionar las soluciones (poblaciones) de cada generación\n",
    "    all_fitness = Population.merge(all_fitness, algorithm.pop)\n",
    "    \n",
    "    # Para cada solución en la población de esta generación, agregar el número de generación\n",
    "    generations += [gen_idx] * len(algorithm.pop)  # Añade el índice de la generación tantas veces como soluciones tenga la población\n",
    "\n",
    "# Obtener los valores de fitness de todas las generaciones\n",
    "fitness_values = all_fitness.get(\"F\")  # \"F\" representa los valores de las funciones objetivo\n",
    "\n",
    "# Crear un DataFrame con los valores de fitness\n",
    "df_fitness = pd.DataFrame(fitness_values, columns=[f\"F{i+1}\" for i in range(problem.n_obj)])\n",
    "\n",
    "# Añadir una columna extra con el número de generación\n",
    "df_fitness[\"Generación\"] = generations\n",
    "\n",
    "# Mostrar el DataFrame con los valores de fitness y el número de generación\n",
    "print(df_fitness)\n"
   ]
  },
  {
   "cell_type": "code",
   "execution_count": null,
   "id": "10027426-d8f2-4de7-b5f3-fcf0234b577c",
   "metadata": {},
   "outputs": [],
   "source": [
    "from pymoo.visualization.scatter import Scatter\n",
    "plt.figure()    \n",
    "plot = Scatter()\n",
    "plot.add(problem.pareto_front(), color=\"black\", alpha=0.7)\n",
    "plot.add(res.F)\n",
    "\n",
    "%matplotlib inline\n",
    "\n",
    "plot.show()"
   ]
  },
  {
   "cell_type": "code",
   "execution_count": 19,
   "id": "ee06d292-3aed-4173-9128-ef074df9fa34",
   "metadata": {},
   "outputs": [
    {
     "data": {
      "image/png": "[encoded data removed]",
      "text/plain": [
       "<Figure size 800x600 with 1 Axes>"
      ]
     },
     "metadata": {},
     "output_type": "display_data"
    }
   ],
   "source": [
    "# Filtrar el DataFrame para obtener solo las soluciones de la generación 99\n",
    "df_gen_99 = df_fitness[df_fitness[\"Generación\"] == 99]\n",
    "df_gen_80 = df_fitness[df_fitness[\"Generación\"] == 80]\n",
    "\n",
    "# Asumamos que tienes dos funciones objetivo (F1 y F2)\n",
    "# Cambia esto si tienes más de dos funciones objetivo\n",
    "f1_values = df_gen_99[\"F1\"].values\n",
    "f2_values = df_gen_99[\"F2\"].values\n",
    "f1_values_80 = df_gen_80[\"F1\"].values\n",
    "f2_values_80 = df_gen_80[\"F2\"].values\n",
    "\n",
    "# Crear el gráfico\n",
    "plt.figure(figsize=(8, 6))\n",
    "plt.scatter(f1_values, f2_values, label='Última generación')\n",
    "plt.scatter(f1_values_80, f2_values_80, color='green', label='Primera generación')\n",
    "\n",
    "# Configurar etiquetas y título\n",
    "plt.xlabel('F1')\n",
    "plt.ylabel('F2')\n",
    "\n",
    "# Mostrar la leyenda\n",
    "plt.legend()\n",
    "\n",
    "# Mostrar el gráfico\n",
    "plt.show()"
   ]
  },
  {
   "cell_type": "code",
   "execution_count": 20,
   "id": "751bbb0b-4adb-4e89-b6e4-0f37f12a0789",
   "metadata": {},
   "outputs": [
    {
     "data": {
      "text/plain": [
       "20"
      ]
     },
     "execution_count": 20,
     "metadata": {},
     "output_type": "execute_result"
    }
   ],
   "source": [
    "len(df_gen_99)"
   ]
  },
  {
   "cell_type": "code",
   "execution_count": 33,
   "id": "0f24be73-8eba-4ba1-a955-8c66d7b35d95",
   "metadata": {},
   "outputs": [
    {
     "name": "stdout",
     "output_type": "stream",
     "text": [
      "(21, 2)\n"
     ]
    }
   ],
   "source": [
    "print(stops.shape)"
   ]
  },
  {
   "cell_type": "code",
   "execution_count": null,
   "id": "fea45e90-0e56-4360-80ef-99d4ae12a232",
   "metadata": {},
   "outputs": [],
   "source": []
  }
 ],
 "metadata": {
  "kernelspec": {
   "display_name": "Python 3 (ipykernel)",
   "language": "python",
   "name": "python3"
  },
  "language_info": {
   "codemirror_mode": {
    "name": "ipython",
    "version": 3
   },
   "file_extension": ".py",
   "mimetype": "text/x-python",
   "name": "python",
   "nbconvert_exporter": "python",
   "pygments_lexer": "ipython3",
   "version": "3.8.10"
  }
 },
 "nbformat": 4,
 "nbformat_minor": 5
}
