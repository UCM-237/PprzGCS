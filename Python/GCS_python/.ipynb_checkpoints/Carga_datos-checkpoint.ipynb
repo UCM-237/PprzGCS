{
 "cells": [
  {
   "cell_type": "code",
   "execution_count": 40,
   "id": "6a9eee8a-2c9b-4ea2-a8dc-c41bd4ccc8ff",
   "metadata": {},
   "outputs": [],
   "source": [
    "import matplotlib.pyplot as plt\n",
    "import pandas as pd"
   ]
  },
  {
   "cell_type": "code",
   "execution_count": 41,
   "id": "0e4e54d0-9daf-48b9-b518-51bcedf7519f",
   "metadata": {},
   "outputs": [],
   "source": [
    "Estrategia = pd.read_csv('/home/dacya-iagesbloom/Desktop/PprzGCS/datos.txt', delimiter=':', header = None)"
   ]
  },
  {
   "cell_type": "code",
   "execution_count": 42,
   "id": "65e85673-aba0-4d86-9f47-e818b1017085",
   "metadata": {},
   "outputs": [],
   "source": [
    "Coordenadas = pd.read_csv('/home/dacya-iagesbloom/Desktop/PprzGCS/coordenadas.txt', delimiter=',', header=None)"
   ]
  },
  {
   "cell_type": "code",
   "execution_count": 43,
   "id": "115b3503-b0ad-458d-b273-14ee2645e068",
   "metadata": {},
   "outputs": [],
   "source": [
    "X = Coordenadas[0]"
   ]
  },
  {
   "cell_type": "code",
   "execution_count": 44,
   "id": "bcd3827e-4276-4e40-9fb7-06ca3501280c",
   "metadata": {},
   "outputs": [],
   "source": [
    "Y = Coordenadas[1]"
   ]
  },
  {
   "cell_type": "code",
   "execution_count": 45,
   "id": "21fa87ae-ed0a-41c0-915b-cf8b1be25245",
   "metadata": {},
   "outputs": [
    {
     "data": {
      "text/plain": [
       "<matplotlib.collections.PathCollection at 0x7fea7d1304c0>"
      ]
     },
     "execution_count": 45,
     "metadata": {},
     "output_type": "execute_result"
    },
    {
     "data": {
      "image/png": "[encoded data removed]",
      "text/plain": [
       "<Figure size 800x600 with 1 Axes>"
      ]
     },
     "metadata": {},
     "output_type": "display_data"
    }
   ],
   "source": [
    "plt.figure(figsize=(8, 6))  # Tamaño de la figura\n",
    "plt.scatter(X, Y, marker='o', linestyle='-', color='b')  # Línea azul con puntos"
   ]
  },
  {
   "cell_type": "code",
   "execution_count": 46,
   "id": "c8cf2481-b009-4dfb-99c3-b65000095ff7",
   "metadata": {
    "tags": []
   },
   "outputs": [
    {
     "data": {
      "text/html": [
       "<div>\n",
       "<style scoped>\n",
       "    .dataframe tbody tr th:only-of-type {\n",
       "        vertical-align: middle;\n",
       "    }\n",
       "\n",
       "    .dataframe tbody tr th {\n",
       "        vertical-align: top;\n",
       "    }\n",
       "\n",
       "    .dataframe thead th {\n",
       "        text-align: right;\n",
       "    }\n",
       "</style>\n",
       "<table border=\"1\" class=\"dataframe\">\n",
       "  <thead>\n",
       "    <tr style=\"text-align: right;\">\n",
       "      <th></th>\n",
       "      <th>0</th>\n",
       "      <th>1</th>\n",
       "    </tr>\n",
       "  </thead>\n",
       "  <tbody>\n",
       "    <tr>\n",
       "      <th>0</th>\n",
       "      <td>Estrategia seleccionada</td>\n",
       "      <td>Sin Mapa</td>\n",
       "    </tr>\n",
       "    <tr>\n",
       "      <th>1</th>\n",
       "      <td>NÃºmero de segmentos</td>\n",
       "      <td>4</td>\n",
       "    </tr>\n",
       "    <tr>\n",
       "      <th>2</th>\n",
       "      <td>NÃºmero de puntos de control</td>\n",
       "      <td>3</td>\n",
       "    </tr>\n",
       "  </tbody>\n",
       "</table>\n",
       "</div>"
      ],
      "text/plain": [
       "                              0          1\n",
       "0       Estrategia seleccionada   Sin Mapa\n",
       "1          NÃºmero de segmentos          4\n",
       "2  NÃºmero de puntos de control          3"
      ]
     },
     "execution_count": 46,
     "metadata": {},
     "output_type": "execute_result"
    }
   ],
   "source": [
    "Estrategia"
   ]
  },
  {
   "cell_type": "code",
   "execution_count": 47,
   "id": "8763bf6e-65cc-4346-b4f0-ace93f483652",
   "metadata": {
    "tags": []
   },
   "outputs": [
    {
     "data": {
      "text/html": [
       "<div>\n",
       "<style scoped>\n",
       "    .dataframe tbody tr th:only-of-type {\n",
       "        vertical-align: middle;\n",
       "    }\n",
       "\n",
       "    .dataframe tbody tr th {\n",
       "        vertical-align: top;\n",
       "    }\n",
       "\n",
       "    .dataframe thead th {\n",
       "        text-align: right;\n",
       "    }\n",
       "</style>\n",
       "<table border=\"1\" class=\"dataframe\">\n",
       "  <thead>\n",
       "    <tr style=\"text-align: right;\">\n",
       "      <th></th>\n",
       "      <th>0</th>\n",
       "      <th>1</th>\n",
       "    </tr>\n",
       "  </thead>\n",
       "  <tbody>\n",
       "    <tr>\n",
       "      <th>0</th>\n",
       "      <td>1</td>\n",
       "      <td>2</td>\n",
       "    </tr>\n",
       "    <tr>\n",
       "      <th>1</th>\n",
       "      <td>3</td>\n",
       "      <td>2</td>\n",
       "    </tr>\n",
       "    <tr>\n",
       "      <th>2</th>\n",
       "      <td>1</td>\n",
       "      <td>1</td>\n",
       "    </tr>\n",
       "  </tbody>\n",
       "</table>\n",
       "</div>"
      ],
      "text/plain": [
       "   0  1\n",
       "0  1  2\n",
       "1  3  2\n",
       "2  1  1"
      ]
     },
     "execution_count": 47,
     "metadata": {},
     "output_type": "execute_result"
    }
   ],
   "source": [
    "Coordenadas"
   ]
  },
  {
   "cell_type": "code",
   "execution_count": 1,
   "id": "27ebf105-e533-4068-b06e-03cad04d3885",
   "metadata": {},
   "outputs": [],
   "source": [
    "#Vamos a intentar cargar datos de un archivo XML"
   ]
  },
  {
   "cell_type": "code",
   "execution_count": 39,
   "id": "1b237d84-9def-4bb3-8c05-baefc8f16e3d",
   "metadata": {},
   "outputs": [
    {
     "name": "stdout",
     "output_type": "stream",
     "text": [
      "Waypoints reescritos y guardados en 'archivo_actualizado.xml'\n",
      "8\n"
     ]
    }
   ],
   "source": [
    "import xml.etree.ElementTree as ET\n",
    "from xml.dom import minidom\n",
    "\n",
    "# Cargar el archivo XML\n",
    "tree = ET.parse('/home/dacya-iagesbloom/Documents/paparazzi/conf/flight_plans/prueba2.xml')\n",
    "root = tree.getroot()\n",
    "\n",
    "# Encontrar todos los waypoints\n",
    "waypoints = root.find('waypoints')\n",
    "waypoint_list = []\n",
    "unchanged_points = []\n",
    "\n",
    "# Almacenar los waypoints existentes en una lista\n",
    "for waypoint in waypoints.findall('waypoint'):\n",
    "    name = waypoint.get('name')\n",
    "    x = float(waypoint.get('x'))\n",
    "    y = float(waypoint.get('y'))\n",
    "    if name.startswith('wp'):\n",
    "        waypoint_list.append((name, x, y))\n",
    "    else:\n",
    "        unchanged_points.append((name, x, y))\n",
    "\n",
    "len_original = len(waypoint_list)\n",
    "\n",
    "# Aplicar el algoritmo de optimización\n",
    "waypoint_list.sort(key=lambda wp: wp[1])  # Ordenar por x\n",
    "\n",
    "# Definir nuevos waypoints\n",
    "nuevos_wp = [\n",
    "    (None, 12.34, 56.78),  # Tupla (nombre None, x, y)\n",
    "    (None, 90.12, 34.56),\n",
    "    # Estos wp los sacaríamos del algoritmo de optimización dependiendo de cuantos segmentos tengamos\n",
    "]\n",
    "\n",
    "# Combinar la lista existente y los nuevos waypoints\n",
    "waypoint_list.extend(nuevos_wp)\n",
    "\n",
    "# Ahora ordenar nuevamente la lista completa (puedes decidir cómo manejar el None)\n",
    "waypoint_list.sort(key=lambda wp: wp[1])  # Reordenar después de añadir nuevos\n",
    "\n",
    "# Limpiar la sección de waypoints\n",
    "waypoints.clear()\n",
    "counter = 0\n",
    "\n",
    "# Reescribir todos los waypoints en el nuevo orden\n",
    "for i, (name, x, y) in enumerate(waypoint_list):\n",
    "    # Generar un nombre único si no hay nombre\n",
    "    if name is None:\n",
    "        counter += 1\n",
    "        name = f'wp{len_original + counter}'  # Asigna un nombre basado en el índice\n",
    "    new_waypoint = ET.Element('waypoint', name=name, x=str(x), y=str(y))\n",
    "    waypoints.append(new_waypoint)\n",
    "\n",
    "# Reinsertar los waypoints que no deben ser modificados\n",
    "for name, x, y in unchanged_points:\n",
    "    unchanged_wp = ET.Element('waypoint', name=name, x=str(x), y=str(y))\n",
    "    waypoints.append(unchanged_wp)\n",
    "\n",
    "# Función para formatear el XML\n",
    "def prettify(element):\n",
    "    \"\"\" Devuelve una versión 'bonita' del XML \"\"\"\n",
    "    rough_string = ET.tostring(element, 'utf-8')\n",
    "    reparsed = minidom.parseString(rough_string)\n",
    "    return reparsed.toprettyxml(indent=\"  \")\n",
    "\n",
    "# Guardar los cambios en el archivo XML\n",
    "with open('/home/dacya-iagesbloom/Documents/paparazzi/conf/flight_plans/archivo_actualizado.xml', 'w', encoding='utf-8') as f:\n",
    "    f.write(prettify(root))\n",
    "\n",
    "print(\"Waypoints reescritos y guardados en 'archivo_actualizado.xml'\")\n",
    "print(len_original)\n"
   ]
  },
  {
   "cell_type": "code",
   "execution_count": null,
   "id": "806d2c3c-95a0-49c9-a165-58b19f939659",
   "metadata": {},
   "outputs": [],
   "source": []
  }
 ],
 "metadata": {
  "kernelspec": {
   "display_name": "Python 3 (ipykernel)",
   "language": "python",
   "name": "python3"
  },
  "language_info": {
   "codemirror_mode": {
    "name": "ipython",
    "version": 3
   },
   "file_extension": ".py",
   "mimetype": "text/x-python",
   "name": "python",
   "nbconvert_exporter": "python",
   "pygments_lexer": "ipython3",
   "version": "3.8.10"
  }
 },
 "nbformat": 4,
 "nbformat_minor": 5
}
