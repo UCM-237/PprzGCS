{
 "cells": [
  {
   "cell_type": "markdown",
   "id": "b29f4379-7241-484d-a1ec-aeffb09dd901",
   "metadata": {},
   "source": [
    "En este código se va a coger un archivo xml sacado del flight_plan de PprzGCS de donde sacaremos los puntos de paso. Con el optimizador sacaremos la ruta óptima y finalmente modificaremos el xml para llevarlo a paparazzi"
   ]
  },
  {
   "cell_type": "code",
   "execution_count": 14,
   "id": "04cfc6c0-5641-4d4e-93aa-bdb2caff55ea",
   "metadata": {},
   "outputs": [],
   "source": [
    "#Cargamos los módulos que se van a necesitar\n",
    "import pandas as pd\n",
    "\n",
    "import numpy as np\n",
    "\n",
    "import matplotlib\n",
    "matplotlib.use('Qt5Agg')  # Cambia el backend a Qt5Agg para mostrar ventanas gráficas\n",
    "import matplotlib.pyplot as plt\n",
    "\n",
    "from scipy.spatial.distance import cdist\n",
    "from pymoo.core.problem import ElementwiseProblem\n",
    "\n",
    "from sklearn.cluster import KMeans\n",
    "from sklearn.preprocessing import scale\n",
    "from sklearn.metrics import silhouette_score\n",
    "\n",
    "from matplotlib import style\n",
    "\n",
    "#Para que el primer punto sea el inicial\n",
    "from pymoo.core.repair import Repair \n",
    "\n",
    "#Diferentes funciones de la biblioteca para optimizar (pymoo)\n",
    "from pymoo.algorithms.moo.nsga2 import NSGA2\n",
    "from pymoo.optimize import minimize\n",
    "from pymoo.problems.single.traveling_salesman import create_random_tsp_problem\n",
    "from pymoo.operators.sampling.rnd import PermutationRandomSampling\n",
    "from pymoo.operators.crossover.ox import OrderCrossover\n",
    "from pymoo.operators.mutation.inversion import InversionMutation\n",
    "from pymoo.termination.default import DefaultSingleObjectiveTermination\n",
    "from pymoo.operators.mutation.bitflip import BitflipMutation"
   ]
  },
  {
   "cell_type": "code",
   "execution_count": 15,
   "id": "38f89f00-7143-4e6a-bc11-e820afb7c49a",
   "metadata": {},
   "outputs": [
    {
     "name": "stdout",
     "output_type": "stream",
     "text": [
      "El archivo XML es válido.\n"
     ]
    }
   ],
   "source": [
    "from lxml import etree\n",
    "\n",
    "# Ruta a tu archivo XML y DTD\n",
    "xml_file = '/home/dacya-iagesbloom/Documents/paparazzi/conf/flight_plans/UCM/steering_rover_gvfMission_parametric_bare.xml'\n",
    "dtd_file = '/home/dacya-iagesbloom/Documents/paparazzi/conf/flight_plans/flight_plan.dtd'\n",
    "\n",
    "# Cargar el DTD\n",
    "with open(dtd_file, 'r') as dtd_f:\n",
    "    dtd = etree.DTD(dtd_f)\n",
    "\n",
    "# Cargar el archivo XML\n",
    "with open(xml_file, 'r') as xml_f:\n",
    "    xml_content = xml_f.read()\n",
    "\n",
    "# Validar el XML contra el DTD\n",
    "try:\n",
    "    xml_doc = etree.fromstring(xml_content)\n",
    "    if dtd.validate(xml_doc):\n",
    "        print(\"El archivo XML es válido.\")\n",
    "    else:\n",
    "        print(\"El archivo XML no es válido.\")\n",
    "        print(\"Errores:\")\n",
    "        for error in dtd.error_log:\n",
    "            print(f\"Línea {error.line}: {error.message}\")\n",
    "except etree.XMLSyntaxError as e:\n",
    "    print(\"Error de sintaxis XML:\")\n",
    "    print(e)\n"
   ]
  },
  {
   "cell_type": "code",
   "execution_count": 25,
   "id": "443dbd2e-0555-490d-a741-344b82c3afec",
   "metadata": {},
   "outputs": [
    {
     "name": "stdout",
     "output_type": "stream",
     "text": [
      "-3.7271760\n",
      "-3.727176\n",
      "-3.727206\n",
      "-3.727206\n",
      "-3.7271789\n",
      "-3.7271789\n",
      "-3.727278\n",
      "-3.727278\n",
      "-3.727130\n",
      "-3.72713\n",
      "-3.7271581\n",
      "-3.7271581\n",
      "-3.7272660\n",
      "-3.727266\n",
      "-3.727106\n",
      "-3.727106\n",
      "-3.7272390\n",
      "-3.727239\n",
      "-3.727079\n",
      "-3.727079\n",
      "-3.7271630\n",
      "-3.727163\n",
      "-3.727109\n",
      "-3.727109\n",
      "-3.727266\n",
      "-3.727266\n",
      "[['40.450733' '-3.727176']\n",
      " ['40.450981' '-3.727206']\n",
      " ['40.4508339' '-3.7271789']\n",
      " ['40.450934' '-3.727278']\n",
      " ['40.450939' '-3.72713']\n",
      " ['40.4509659' '-3.7271581']\n",
      " ['40.4509759' '-3.727266']\n",
      " ['40.450909' '-3.727106']\n",
      " ['40.450878' '-3.727239']\n",
      " ['40.450793' '-3.727079']\n",
      " ['40.4507759' '-3.727163']\n",
      " ['40.45075' '-3.727109']\n",
      " ['40.450902' '-3.727266']]\n"
     ]
    }
   ],
   "source": [
    "#En primer lugar cargamos todos los archivos necesarios. Estos son los siguientes:\n",
    "#1- Datos.txt -> Nos dice si queremos mapa o no, número de segmentos y número de puntos de control\n",
    "#2- Coordenadas.txt -> Nos dice las coordenadas de los puntos de control\n",
    "#3- flight_plan -> Nos da todos los datos de lo que se desea en la ruta (Puntos de paso, regiones...)\n",
    "\n",
    "#flightplan_entrada = input(\"Introduce el archivo que quiere optimizar con la extensión .xml: \")\n",
    "#flightplan_salida = input(\"Introduce como quiere llamar archivo de salida con .xml: \")\n",
    "\n",
    "#Leemos los archivos sacados del boton de planificación\n",
    "Estrategia = pd.read_csv('/home/dacya-iagesbloom/Desktop/PprzGCS/datos.txt', delimiter=':', header = None) #Datos.txt\n",
    "Coordenadas = pd.read_csv('/home/dacya-iagesbloom/Desktop/PprzGCS/coordenadas.txt', delimiter=',', header=None) #Coordenadas.txt\n",
    "\n",
    "#Carga de archivo XML\n",
    "import xml.etree.ElementTree as ET\n",
    "from xml.dom import minidom\n",
    "\n",
    "tree = ET.parse('/home/dacya-iagesbloom/Documents/paparazzi/conf/flight_plans/UCM/PRUEBA2_steering_rover_gvfMission_parametric_bare.xml')\n",
    "root = tree.getroot()\n",
    "\n",
    "# Encontrar todos los waypoints\n",
    "way_points = root.find('waypoints')\n",
    "waypoint_list = []\n",
    "unchanged_points = []\n",
    "\n",
    "#RECORDATORIO CHECKPOINT: EL CÓDIGO ESTABA HECHO PARA DECLARAR LAS VARIABLES CON X,Y NO CON LON LAT. EL PROBLEMA VIENE DE QUE CON\n",
    "#EL FLIGHT_PLAN HECHO POR MI EL SIMULADOR NO SIGUE BIEN LA RUTA. POR TANTO, ESTOY PROBANDO CON UNO QUE (A VECES) SÍ QUE HACE BIEN \n",
    "#LA RUTA. PERO HAY QUE O PASAR LON Y LAT A X E Y O QUE SEA CAPAZ DE LEER LON, LAT\n",
    "\n",
    "# Almacenar los waypoints existentes en una lista\n",
    "for waypoint in way_points.findall('waypoint'):\n",
    "    name = waypoint.get('name')\n",
    "    #print(name)\n",
    "    if name.startswith('BZ'):\n",
    "        lat = float(waypoint.get('lat'))\n",
    "        lon = float(waypoint.get('lon'))\n",
    "        print(waypoint.get('lon'))\n",
    "        print(lon)\n",
    "        #print(type(lat))\n",
    "        #waypoint_list.append((name, x, y))\n",
    "        waypoint_list.append((name, lat, lon))\n",
    "    else:\n",
    "        x = float(waypoint.get('x'))\n",
    "        y = float(waypoint.get('y'))\n",
    "        unchanged_points.append((name, x, y))\n",
    "        #waypoint_list.append((name, lon, lat))\n",
    "#Limpiamos way_points\n",
    "way_points.clear()\n",
    "\n",
    "#Convertimos tanto la lista de waypoints como unchanged en una lista y las unimos\n",
    "waypoints = np.array([[nombre, lat, lon] for nombre, lat, lon in waypoint_list])\n",
    "unchangedpoints = np.array([[nombre, x, y] for nombre, x, y in unchanged_points])\n",
    "points = np.concatenate((waypoints, unchangedpoints), axis=0)\n",
    "\n",
    "\n",
    "#Definimos una matriz unicamente con las coordenadas de cada parada:\n",
    "paradas = (waypoints[:,-2:])\n",
    "print(paradas)\n",
    "#Definimos parámetros del barco\n",
    "velocidad_media = 40"
   ]
  },
  {
   "cell_type": "code",
   "execution_count": 26,
   "id": "eec17f1c-15ef-436d-8eed-06f875384959",
   "metadata": {},
   "outputs": [],
   "source": [
    "#Ahora una vez tenemos los puntos vamos a añadir el algoritmo de optimización\n",
    "\n",
    "#COSA TO DO DESPUÉS DE HABER LOGRADO UNIR EL OPTIMIZADOR CON LA RECOGIDA DE DATOS: FIJAR EL PUNTO INICIAL Y FINAL\n",
    "stops=paradas\n",
    "class RUTA (ElementwiseProblem):\n",
    "\n",
    "    def __init__(self, **kwargs):\n",
    "        \n",
    "        start_idx = 0  # Primer punto\n",
    "        end_idx = len(waypoints)-1 # Último punto\n",
    "        \n",
    "        n_stops, _ = stops.shape #Aquí coge las filas (Por tanto el número de paradas)\n",
    "        #n_stops=n_stops-1\n",
    "        self.stops = stops\n",
    "        self.D = cdist(stops, stops)\n",
    "        self.start_idx = start_idx\n",
    "        self.end_idx = end_idx\n",
    "        super(RUTA, self).__init__(\n",
    "            n_var=n_stops,\n",
    "            n_obj=1,\n",
    "            n_constr=2,\n",
    "            xl=0,\n",
    "            xu=len(stops),\n",
    "            vtype=int,\n",
    "            **kwargs\n",
    "        )\n",
    "\n",
    "    def _evaluate(self, x, out, *args, **kwargs):\n",
    "        distancia=self.get_route_length(x)\n",
    "        tiempo=self.get_route_length(x)/velocidad_media\n",
    "        out['F'] = [distancia]\n",
    "\n",
    "        #Voy a poner aquí las restricciones\n",
    "        #Restricciones\n",
    "        \n",
    "        #Max_dist=self.get_route_length(x)-250\n",
    "        \n",
    "        #Max_tiempo=self.get_route_length(x)/velocidad_media-250\n",
    "\n",
    "        #x_ord=np.sort(x)\n",
    "        #penalty_paradas=0\n",
    "        #for i in range(len(x_ord)-1):\n",
    "        #   if x_ord[i] == x_ord[i+1]:\n",
    "        #       penalty_paradas=10000\n",
    "        g1 = 1 if x[0] != self.start_idx else 0  # Penaliza si el primer punto no es start_idx\n",
    "        g2 = 1 if x[-1] != self.end_idx else 0   # Penaliza si el último punto no es end_idx\n",
    "        #out[\"G\"]=[Max_dist, Max_tiempo + penalty_paradas]\n",
    "        \n",
    "        out[\"G\"] = [g1, g2]\n",
    "        \n",
    "    def get_route_length(self, x):\n",
    "        n_stops = len(x)\n",
    "        dist = 0\n",
    "        for k in range(n_stops - 1):\n",
    "            i, j = x[k], x[k + 1]\n",
    "            dist += self.D[i, j]\n",
    "        return dist\n",
    "\n",
    "\n",
    "def visualize_3(problem, x, n, fig=None, ax=None, show=True, label=True):\n",
    "    with plt.style.context('ggplot'):\n",
    "        # Asegúrate de que x sea un array unidimensional\n",
    "        x = np.asarray(x)  # Convierte x a un array de numpy\n",
    "\n",
    "        if x.ndim == 1:  # Asegúrate de que es un vector\n",
    "            x = x.flatten()  # Aplana el array para asegurarte de que sea 1D\n",
    "\n",
    "        if fig is None or ax is None:\n",
    "            fig, ax = plt.subplots()\n",
    "\n",
    "        # Plot de las ciudades usando scatter plot\n",
    "        ax.scatter(problem.stops[:, 0], problem.stops[:, 1], s=150)\n",
    "        if label:\n",
    "            # Anota las ciudades\n",
    "            for i, c in enumerate(problem.stops):\n",
    "                ax.annotate(str(i), xy=c, fontsize=10, ha=\"center\", va=\"center\", color=\"white\")\n",
    "\n",
    "        # Plotea la línea en el camino\n",
    "        for i in range(len(x) - 1):\n",
    "            current = int(x[i])  # Asegúrate de convertir a entero\n",
    "            next_ = int(x[i + 1])  # Asegúrate de convertir a entero\n",
    "            ax.plot(problem.stops[[current, next_], 0], problem.stops[[current, next_], 1], 'r--')\n",
    "\n",
    "        fig.suptitle(f\"Route length: {problem.get_route_length(x)} km \\nRoute time: {problem.get_route_length(x) * 60 / velocidad_media} min\")\n",
    "\n",
    "        if show:\n",
    "            plt.show()\n",
    "\n",
    "class StartFromZeroRepair(Repair):\n",
    "\n",
    "    def _do(self, problem, X, **kwargs):\n",
    "        I = np.where(X == 0)[1]\n",
    "\n",
    "        for k in range(len(X)):\n",
    "            i = I[k]\n",
    "            X[k] = np.concatenate([X[k, i:], X[k, :i]])\n",
    "\n",
    "        return X"
   ]
  },
  {
   "cell_type": "code",
   "execution_count": 27,
   "id": "9d4b6d5b-bd38-4198-aa39-f35f56d170fb",
   "metadata": {},
   "outputs": [
    {
     "data": {
      "image/png": "[encoded data removed]",
      "text/plain": [
       "<Figure size 1000x400 with 1 Axes>"
      ]
     },
     "metadata": {},
     "output_type": "display_data"
    }
   ],
   "source": [
    "#Para en caso en el que tengamos más de un barco hará un clustering con kmeans para clasificar las diferentes paradas\n",
    "#De momento dejaremos el n_barcos fijos igual a 1 pero el algoritmo está preparado para que en algún momento se puedan añadir más\n",
    "n_barcos = 1\n",
    "\n",
    "style.use('ggplot') or plt.style.use('ggplot')\n",
    "\n",
    "x_k, y=paradas[0], paradas[1]\n",
    "X_scaled = scale(paradas)\n",
    "modelo_kmeans = KMeans(n_clusters=n_barcos, n_init=25, random_state=123)\n",
    "modelo_kmeans.fit(X=X_scaled)\n",
    "\n",
    "# Clasificación con el modelo kmeans\n",
    "\n",
    "y_predict = modelo_kmeans.predict(X=X_scaled)\n",
    "\n",
    "#Representación\n",
    "fig, ax = plt.subplots(1, 1, figsize=(10, 4))\n",
    "\n",
    "for i in np.unique(y_predict):\n",
    "    ax.scatter(\n",
    "        x = X_scaled[y_predict == i, 0],\n",
    "        y = X_scaled[y_predict == i, 1], \n",
    "        c = plt.rcParams['axes.prop_cycle'].by_key()['color'][i],\n",
    "        marker    = 'o',\n",
    "        edgecolor = 'black', \n",
    "        label= f\"Cluster {i}\"\n",
    "    )\n",
    "    \n",
    "ax.scatter(\n",
    "    x = modelo_kmeans.cluster_centers_[:, 0],\n",
    "    y = modelo_kmeans.cluster_centers_[:, 1], \n",
    "    c = 'black',\n",
    "    s = 40,\n",
    "    marker = 'o',\n",
    "    label  = 'centroides'\n",
    ")\n",
    "ax.set_title('Clusters generados por Kmeans')\n",
    "ax.legend();"
   ]
  },
  {
   "cell_type": "code",
   "execution_count": 28,
   "id": "a24be1ae-e3f9-40de-84cb-9fa8e4c464a6",
   "metadata": {},
   "outputs": [
    {
     "name": "stdout",
     "output_type": "stream",
     "text": [
      "0\n",
      "Maximum Span: 0.001\n",
      "Function Evaluations: 2000\n",
      "[ 0 11  9 10  2  7  4  5  1  6  3  8 12]\n"
     ]
    },
    {
     "data": {
      "image/png": "[encoded data removed]",
      "text/plain": [
       "<Figure size 640x480 with 1 Axes>"
      ]
     },
     "metadata": {},
     "output_type": "display_data"
    }
   ],
   "source": [
    "#Creamos un diccionario para almacenar cada ruta\n",
    "rutas={}\n",
    "stops=paradas.astype(float)\n",
    "fitness=[]\n",
    "\n",
    "for i in range(n_barcos):\n",
    "    print(i)\n",
    "    grupos_finales=np.array([stops[:,0].T, stops[:,1].T, y_predict])\n",
    "    grupos_finales=grupos_finales.T\n",
    "    rutas[f\"ruta_{i}\"]=grupos_finales[grupos_finales[:,2]==i][:,:2]\n",
    "from pymoo.core.sampling import Sampling\n",
    "for i in range(n_barcos):\n",
    "    n_stops=len(stops)\n",
    "    problem = RUTA()\n",
    "\n",
    "        \n",
    "    class CustomSampling(Sampling):\n",
    "        def _do(self, problem, n_samples, **kwargs):\n",
    "            # Generar n_samples rutas aleatorias\n",
    "            samples = []\n",
    "            for _ in range(n_samples):\n",
    "                # Crear una ruta aleatoria (permutación de las paradas)\n",
    "                route = np.random.permutation(n_stops)\n",
    "                #print(f\"n_paradas {n_stops}\")\n",
    "                samples.append(route)\n",
    "                #print(f\"samples {samples}\")\n",
    "            return np.array(samples)\n",
    "\n",
    "    sampling=CustomSampling()  \n",
    "    algorithm = NSGA2(\n",
    "        pop_size=20,\n",
    "        sampling=sampling,\n",
    "        mutation=InversionMutation(),\n",
    "        #mutation=BitflipMutation(),\n",
    "        crossover=OrderCrossover(),\n",
    "        repair=StartFromZeroRepair(),\n",
    "        eliminate_duplicates=True,\n",
    "        save_history=True,\n",
    "        #verbose=True\n",
    "    )\n",
    "    \n",
    "    # if the algorithm did not improve the last 200 generations then it will terminate (and disable the max generations)\n",
    "    #termination = DefaultSingleObjectiveTermination(period=200, n_max_gen=np.inf)\n",
    "    \n",
    "    res = minimize(\n",
    "        problem,\n",
    "        algorithm,\n",
    "        termination=('n_gen',100),\n",
    "        seed=1,\n",
    "        verbose=False,\n",
    "    )\n",
    "    print(\"Maximum Span:\", np.round(res.F[0], 3))\n",
    "    print(\"Function Evaluations:\", res.algorithm.evaluator.n_eval)\n",
    "    print(res.X)\n",
    "    %matplotlib inline\n",
    "    visualize_3(problem, res.X, n_barcos)\n",
    "    \n"
   ]
  },
  {
   "cell_type": "code",
   "execution_count": 35,
   "id": "091ed3f1-8430-4753-bdbd-4721793b6d5a",
   "metadata": {},
   "outputs": [
    {
     "name": "stdout",
     "output_type": "stream",
     "text": [
      "[('BZ0', 40.450733, -3.727176 ) ('BZ1', 40.45075 , -3.727109 )\n",
      " ('BZ2', 40.450794, -3.727079 ) ('BZ3', 40.450775, -3.727163 )\n",
      " ('BZ4', 40.450832, -3.7271788) ('BZ5', 40.45091 , -3.727106 )\n",
      " ('BZ6', 40.45094 , -3.72713  ) ('BZ7', 40.450966, -3.727158 )\n",
      " ('BZ8', 40.45098 , -3.727206 ) ('BZ9', 40.450977, -3.727266 )\n",
      " ('BZ10', 40.450935, -3.727278 ) ('BZ11', 40.45088 , -3.727239 )\n",
      " ('BZ12', 40.4509  , -3.727266 )]\n"
     ]
    }
   ],
   "source": [
    "dtype = [('nombre', 'U10'), ('lat', 'f4'), ('lon', 'f4')]  # U10 para string, f4 para float\n",
    "waypoint_array = np.array(waypoint_list, dtype=dtype)\n",
    "unchanged_array = np.zeros(len(unchangedpoints), dtype = dtype)\n",
    "\n",
    "#Rellenamos este array\n",
    "for i, (nombre, x_str, y_str) in enumerate(unchangedpoints):\n",
    "    unchanged_array[i] = (nombre, float(x_str), float(y_str)) \n",
    "\n",
    "#Aqui se realiza la ordenación de los BZ, es decir, el elemento resultado[i] va a ser el elemento que marque res.X (obtenido del algoritmo de opt)\n",
    "resultado = np.zeros(len(res.X),dtype=dtype)\n",
    "for i in range(len(res.X)):\n",
    "    idx = res.X[i]\n",
    "    \n",
    "    resultado[i] = (f'BZ{i}', waypoint_list[idx][1], waypoint_list[idx][2])\n",
    "\n",
    "waypoints= resultado\n",
    "print(waypoints)"
   ]
  },
  {
   "cell_type": "code",
   "execution_count": 37,
   "id": "e7c92b8d-d5d5-4409-b9da-f6d61e3372ed",
   "metadata": {},
   "outputs": [
    {
     "name": "stdout",
     "output_type": "stream",
     "text": [
      "[['40.450733' '-3.727176']\n",
      " ['40.450981' '-3.727206']\n",
      " ['40.4508339' '-3.7271789']\n",
      " ['40.450934' '-3.727278']\n",
      " ['40.450939' '-3.72713']\n",
      " ['40.4509659' '-3.7271581']\n",
      " ['40.4509759' '-3.727266']\n",
      " ['40.450909' '-3.727106']\n",
      " ['40.450878' '-3.727239']\n",
      " ['40.450793' '-3.727079']\n",
      " ['40.4507759' '-3.727163']\n",
      " ['40.45075' '-3.727109']\n",
      " ['40.450902' '-3.727266']]\n"
     ]
    }
   ],
   "source": [
    "print(paradas)"
   ]
  },
  {
   "cell_type": "code",
   "execution_count": 30,
   "id": "d5a44720-bfb6-4820-a871-6052d7f28595",
   "metadata": {},
   "outputs": [
    {
     "data": {
      "text/plain": [
       "dtype('<U32')"
      ]
     },
     "execution_count": 30,
     "metadata": {},
     "output_type": "execute_result"
    }
   ],
   "source": [
    "unchangedpoints.dtype"
   ]
  },
  {
   "cell_type": "code",
   "execution_count": 31,
   "id": "fa4fffa2-c968-41c7-b3c7-722a8652513b",
   "metadata": {},
   "outputs": [
    {
     "data": {
      "text/plain": [
       "array([ 0, 11,  9, 10,  2,  7,  4,  5,  1,  6,  3,  8, 12])"
      ]
     },
     "execution_count": 31,
     "metadata": {},
     "output_type": "execute_result"
    }
   ],
   "source": [
    "res.X"
   ]
  },
  {
   "cell_type": "code",
   "execution_count": 32,
   "id": "e2fbd28a-9680-4a66-a545-07355d68cac1",
   "metadata": {},
   "outputs": [
    {
     "data": {
      "text/plain": [
       "array([('BZ0', 40.450733, -3.727176 ), ('BZ1', 40.45075 , -3.727109 ),\n",
       "       ('BZ2', 40.450794, -3.727079 ), ('BZ3', 40.450775, -3.727163 ),\n",
       "       ('BZ4', 40.450832, -3.7271788), ('BZ5', 40.45091 , -3.727106 ),\n",
       "       ('BZ6', 40.45094 , -3.72713  ), ('BZ7', 40.450966, -3.727158 ),\n",
       "       ('BZ8', 40.45098 , -3.727206 ), ('BZ9', 40.450977, -3.727266 ),\n",
       "       ('BZ10', 40.450935, -3.727278 ), ('BZ11', 40.45088 , -3.727239 ),\n",
       "       ('BZ12', 40.4509  , -3.727266 )],\n",
       "      dtype=[('nombre', '<U10'), ('lat', '<f4'), ('lon', '<f4')])"
      ]
     },
     "execution_count": 32,
     "metadata": {},
     "output_type": "execute_result"
    }
   ],
   "source": [
    "resultado"
   ]
  },
  {
   "cell_type": "code",
   "execution_count": 33,
   "id": "42ac3c1f-743d-428d-8d31-e6309fda36af",
   "metadata": {},
   "outputs": [
    {
     "name": "stdout",
     "output_type": "stream",
     "text": [
      "Waypoints reescritos y guardados en 'archivo_actualizado.xml'\n"
     ]
    }
   ],
   "source": [
    "#Si se añade para que vaya más de un barco esto habrá que modificarlo para que cree diferentes archivos\n",
    "# Reescribir todos los waypoints organizados desde 'resultados'\n",
    "\n",
    "for name, x, y in resultado:\n",
    "    new_waypoint = ET.Element('waypoint', name=name, lat=str(x), lon=str(y))\n",
    "    way_points.append(new_waypoint)\n",
    "for name, x, y in unchangedpoints:\n",
    "    new_unchanged = ET.Element('waypoint', name=name, x=str(x), y=str(y))\n",
    "    way_points.append(new_unchanged)\n",
    "\n",
    "# Función para formatear el XML\n",
    "def prettify(element):\n",
    "    \"\"\" Devuelve una versión 'bonita' del XML \"\"\"\n",
    "    rough_string = ET.tostring(element, 'utf-8')\n",
    "    reparsed = minidom.parseString(rough_string)\n",
    "    return reparsed.toprettyxml(indent=\"  \")\n",
    "\n",
    "# Guardar los cambios en el archivo XML\n",
    "with open('/home/dacya-iagesbloom/Documents/paparazzi/conf/flight_plans/UCM/PRUEBA2_steering_rover_gvfMission_parametric_bare_opt.xml', 'w', encoding='utf-8') as f:\n",
    "    f.write(prettify(root))\n",
    "\n",
    "print(\"Waypoints reescritos y guardados en 'archivo_actualizado.xml'\")"
   ]
  },
  {
   "cell_type": "code",
   "execution_count": 34,
   "id": "cae4b832-91c4-4844-9ecc-d4fca3347951",
   "metadata": {},
   "outputs": [
    {
     "data": {
      "text/plain": [
       "array([('BZ0', 40.450733, -3.727176 ), ('BZ1', 40.45075 , -3.727109 ),\n",
       "       ('BZ2', 40.450794, -3.727079 ), ('BZ3', 40.450775, -3.727163 ),\n",
       "       ('BZ4', 40.450832, -3.7271788), ('BZ5', 40.45091 , -3.727106 ),\n",
       "       ('BZ6', 40.45094 , -3.72713  ), ('BZ7', 40.450966, -3.727158 ),\n",
       "       ('BZ8', 40.45098 , -3.727206 ), ('BZ9', 40.450977, -3.727266 ),\n",
       "       ('BZ10', 40.450935, -3.727278 ), ('BZ11', 40.45088 , -3.727239 ),\n",
       "       ('BZ12', 40.4509  , -3.727266 )],\n",
       "      dtype=[('nombre', '<U10'), ('lat', '<f4'), ('lon', '<f4')])"
      ]
     },
     "execution_count": 34,
     "metadata": {},
     "output_type": "execute_result"
    }
   ],
   "source": [
    "resultado"
   ]
  },
  {
   "cell_type": "code",
   "execution_count": 13,
   "id": "5be063b5-1e17-42a6-9b8b-156d1f5ae787",
   "metadata": {},
   "outputs": [
    {
     "data": {
      "text/plain": [
       "array([['HOME', '0.0', '0.0'],\n",
       "       ['STDBY', '-1.2', '-14.4'],\n",
       "       ['ELLIPSE', '-2.7', '-10.6'],\n",
       "       ['P1', '-4.4', '-12.8'],\n",
       "       ['P2', '1.6', '-13.1'],\n",
       "       ['_S1', '3.0', '4.0'],\n",
       "       ['_S2', '3.0', '-4.0'],\n",
       "       ['_S3', '-3.0', '-4.0'],\n",
       "       ['_S4', '-3.0', '4.0'],\n",
       "       ['_N1', '60.0', '60.0'],\n",
       "       ['_N2', '60.0', '-60.0'],\n",
       "       ['_N3', '-60.0', '-60.0'],\n",
       "       ['_N4', '-60.0', '60.0'],\n",
       "       ['L0', '0.0', '10.0'],\n",
       "       ['L1', '0.0', '15.0'],\n",
       "       ['L2', '0.0', '20.0'],\n",
       "       ['L3', '-5.0', '20.0'],\n",
       "       ['L4', '-5.0', '15.0'],\n",
       "       ['L5', '-5.0', '10.0'],\n",
       "       ['L6', '-5.0', '5.0']], dtype='<U32')"
      ]
     },
     "execution_count": 13,
     "metadata": {},
     "output_type": "execute_result"
    }
   ],
   "source": [
    "unchangedpoints"
   ]
  },
  {
   "cell_type": "code",
   "execution_count": null,
   "id": "caec3fb8-1856-46fa-af3b-627425dd3758",
   "metadata": {},
   "outputs": [],
   "source": []
  }
 ],
 "metadata": {
  "kernelspec": {
   "display_name": "Python 3 (ipykernel)",
   "language": "python",
   "name": "python3"
  },
  "language_info": {
   "codemirror_mode": {
    "name": "ipython",
    "version": 3
   },
   "file_extension": ".py",
   "mimetype": "text/x-python",
   "name": "python",
   "nbconvert_exporter": "python",
   "pygments_lexer": "ipython3",
   "version": "3.8.10"
  }
 },
 "nbformat": 4,
 "nbformat_minor": 5
}
