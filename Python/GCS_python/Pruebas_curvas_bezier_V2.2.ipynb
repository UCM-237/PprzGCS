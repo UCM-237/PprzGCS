{
 "cells": [
  {
   "cell_type": "code",
   "execution_count": 48,
   "id": "544f4545-6408-4c3a-8882-13873926e664",
   "metadata": {},
   "outputs": [],
   "source": [
    "#En este ejemplo vamos a coger los puntos del xml de paparazzi, vamos a optimizar el camino con un TSP y posteriormente vamos a \n",
    "#calcular las curvas de Bezier mas óptimas"
   ]
  },
  {
   "cell_type": "code",
   "execution_count": 49,
   "id": "41324019-532d-4f52-b403-8382a6310143",
   "metadata": {},
   "outputs": [],
   "source": [
    "#Cargamos los módulos que se van a necesitar\n",
    "import pandas as pd\n",
    "\n",
    "import numpy as np\n",
    "\n",
    "import matplotlib\n",
    "matplotlib.use('Qt5Agg')  # Cambia el backend a Qt5Agg para mostrar ventanas gráficas\n",
    "import matplotlib.pyplot as plt\n",
    "\n",
    "from scipy.spatial.distance import cdist\n",
    "from pymoo.core.problem import ElementwiseProblem\n",
    "\n",
    "from sklearn.cluster import KMeans\n",
    "from sklearn.preprocessing import scale\n",
    "from sklearn.metrics import silhouette_score\n",
    "\n",
    "from matplotlib import style\n",
    "\n",
    "#Para que el primer punto sea el inicial\n",
    "from pymoo.core.repair import Repair \n",
    "\n",
    "#Diferentes funciones de la biblioteca para optimizar (pymoo)\n",
    "from pymoo.algorithms.moo.nsga2 import NSGA2\n",
    "from pymoo.optimize import minimize\n",
    "from pymoo.problems.single.traveling_salesman import create_random_tsp_problem\n",
    "from pymoo.operators.sampling.rnd import PermutationRandomSampling\n",
    "from pymoo.operators.crossover.ox import OrderCrossover\n",
    "from pymoo.operators.mutation.inversion import InversionMutation\n",
    "from pymoo.termination.default import DefaultSingleObjectiveTermination\n",
    "from pymoo.operators.mutation.bitflip import BitflipMutation"
   ]
  },
  {
   "cell_type": "code",
   "execution_count": 50,
   "id": "c3263a44-1619-4d71-9ace-8b162ab1893b",
   "metadata": {},
   "outputs": [
    {
     "name": "stdout",
     "output_type": "stream",
     "text": [
      "Error de sintaxis XML:\n",
      "XML declaration allowed only at the start of the document, line 2, column 6 (<string>, line 2)\n"
     ]
    }
   ],
   "source": [
    "from lxml import etree\n",
    "\n",
    "# Ruta a tu archivo XML y DTD\n",
    "xml_file = '/home/dacya-iagesbloom/Documents/paparazzi/conf/flight_plans/UCM/PRUEBA_BZ_V3_optimizado.xml'\n",
    "dtd_file = '/home/dacya-iagesbloom/Documents/paparazzi/conf/flight_plans/flight_plan.dtd'\n",
    "\n",
    "# Cargar el DTD\n",
    "with open(dtd_file, 'r') as dtd_f:\n",
    "    dtd = etree.DTD(dtd_f)\n",
    "\n",
    "# Cargar el archivo XML\n",
    "with open(xml_file, 'r') as xml_f:\n",
    "    xml_content = xml_f.read()\n",
    "\n",
    "# Validar el XML contra el DTD\n",
    "try:\n",
    "    xml_doc = etree.fromstring(xml_content)\n",
    "    if dtd.validate(xml_doc):\n",
    "        print(\"El archivo XML es válido.\")\n",
    "    else:\n",
    "        print(\"El archivo XML no es válido.\")\n",
    "        print(\"Errores:\")\n",
    "        for error in dtd.error_log:\n",
    "            print(f\"Línea {error.line}: {error.message}\")\n",
    "except etree.XMLSyntaxError as e:\n",
    "    print(\"Error de sintaxis XML:\")\n",
    "    print(e)\n"
   ]
  },
  {
   "cell_type": "code",
   "execution_count": 51,
   "id": "59b043b9-30ce-42aa-a1b8-f60117fc1b3a",
   "metadata": {},
   "outputs": [
    {
     "name": "stdout",
     "output_type": "stream",
     "text": [
      "[['-2.0' '9.3']\n",
      " ['-0.3' '35.1']\n",
      " ['-7.5' '25.6']\n",
      " ['-0.2' '9.9']]\n"
     ]
    }
   ],
   "source": [
    "#En primer lugar cargamos todos los archivos necesarios. Estos son los siguientes:\n",
    "#1- Datos.txt -> Nos dice si queremos mapa o no, número de segmentos y número de puntos de control\n",
    "#2- Coordenadas.txt -> Nos dice las coordenadas de los puntos de control\n",
    "#3- flight_plan -> Nos da todos los datos de lo que se desea en la ruta (Puntos de paso, regiones...)\n",
    "\n",
    "#flightplan_entrada = input(\"Introduce el archivo que quiere optimizar con la extensión .xml: \")\n",
    "#flightplan_salida = input(\"Introduce como quiere llamar archivo de salida con .xml: \")\n",
    "\n",
    "#Leemos los archivos sacados del boton de planificación\n",
    "Estrategia = pd.read_csv('/home/dacya-iagesbloom/Desktop/PprzGCS/datos.txt', delimiter=':', header = None) #Datos.txt\n",
    "Coordenadas = pd.read_csv('/home/dacya-iagesbloom/Desktop/PprzGCS/coordenadas.txt', delimiter=',', header=None) #Coordenadas.txt\n",
    "\n",
    "#Carga de archivo XML\n",
    "import xml.etree.ElementTree as ET\n",
    "from xml.dom import minidom\n",
    "\n",
    "tree = ET.parse('/home/dacya-iagesbloom/Documents/paparazzi/conf/flight_plans/UCM/PRUEBA_BZ_V3_optimizar.xml')\n",
    "root = tree.getroot()\n",
    "\n",
    "# Encontrar todos los waypoints\n",
    "way_points = root.find('waypoints')\n",
    "waypoint_list = []\n",
    "unchanged_points = []\n",
    "home=[]\n",
    "#RECORDATORIO CHECKPOINT: EL CÓDIGO ESTABA HECHO PARA DECLARAR LAS VARIABLES CON X,Y NO CON LON LAT. EL PROBLEMA VIENE DE QUE CON\n",
    "#EL FLIGHT_PLAN HECHO POR MI EL SIMULADOR NO SIGUE BIEN LA RUTA. POR TANTO, ESTOY PROBANDO CON UNO QUE (A VECES) SÍ QUE HACE BIEN \n",
    "#LA RUTA. PERO HAY QUE O PASAR LON Y LAT A X E Y O QUE SEA CAPAZ DE LEER LON, LAT\n",
    "\n",
    "# Almacenar los waypoints existentes en una lista\n",
    "for waypoint in way_points.findall('waypoint'):\n",
    "    name = waypoint.get('name')\n",
    "    #print(name)\n",
    "    if name.startswith('BZ'):\n",
    "        #lat = float(waypoint.get('lat'))\n",
    "        #lon = float(waypoint.get('lon'))\n",
    "        x = float(waypoint.get('x'))\n",
    "        y = float(waypoint.get('y'))\n",
    "        #print(waypoint.get('lat'))\n",
    "        #print(lon)\n",
    "        #print(type(lat))\n",
    "        waypoint_list.append((name, x, y))\n",
    "        #waypoint_list.append((name, lat, lon))\n",
    "    else:\n",
    "        x = float(waypoint.get('x'))\n",
    "        y = float(waypoint.get('y'))\n",
    "        unchanged_points.append((name, x, y))\n",
    "        if name == \"HOME\":\n",
    "            home.append((name, x, y))\n",
    "        #print(unchanged_points)\n",
    "        \n",
    "#Limpiamos way_points\n",
    "way_points.clear()\n",
    "\n",
    "#Convertimos tanto la lista de waypoints como unchanged en una lista y las unimos\n",
    "waypoints = np.array([[nombre, lat, lon] for nombre, lat, lon in waypoint_list])\n",
    "unchangedpoints = np.array([[nombre, x, y] for nombre, x, y in unchanged_points])\n",
    "points = np.concatenate((waypoints, unchangedpoints), axis=0)\n",
    "\n",
    "\n",
    "#Definimos una matriz unicamente con las coordenadas de cada parada:\n",
    "paradas = (waypoints[:,-2:])\n",
    "print(paradas)\n",
    "#Definimos parámetros del barco\n",
    "velocidad_media = 40"
   ]
  },
  {
   "cell_type": "code",
   "execution_count": 52,
   "id": "bf4e8e30-04a9-42df-9883-ef00a5b03d23",
   "metadata": {},
   "outputs": [],
   "source": [
    "def closest_point_and_reorder(home, points):\n",
    "\n",
    "    # Convertir las coordenadas de los puntos a un numpy array y trabajar solo con las coordenadas (últimas 2 columnas)\n",
    "    coords = np.array(points[:, -2:], dtype=float)\n",
    "    \n",
    "    # Convertir el punto fijo a un array numpy\n",
    "    home = np.array(home, dtype=float)\n",
    "    \n",
    "    # Calcular las distancias euclidianas entre el punto fijo y cada punto de 'coords'\n",
    "    distances = np.linalg.norm(coords - home, axis=1)\n",
    "    \n",
    "    # Encontrar el índice del punto con la menor distancia\n",
    "    closest_index = np.argmin(distances)\n",
    "    \n",
    "    # Reordenar los puntos colocando el más cercano en la primera posición\n",
    "    reordered_points = np.vstack([points[closest_index], np.delete(points, closest_index, axis=0)])\n",
    "    \n",
    "    return reordered_points\n"
   ]
  },
  {
   "cell_type": "code",
   "execution_count": 53,
   "id": "77344a60-668d-42ca-a6c2-16ebbe7ddbe2",
   "metadata": {},
   "outputs": [],
   "source": [
    "home_coord = home[0][1:]\n",
    "waypoint_list = [(x, y) for (_, x, y) in waypoint_list]\n",
    "waypoint_list = closest_point_and_reorder(home_coord, paradas)"
   ]
  },
  {
   "cell_type": "code",
   "execution_count": 54,
   "id": "64985b7a-836e-4f06-8b4e-07d56374e567",
   "metadata": {},
   "outputs": [
    {
     "data": {
      "text/plain": [
       "array([['-2.0', '9.3'],\n",
       "       ['-0.3', '35.1'],\n",
       "       ['-7.5', '25.6'],\n",
       "       ['-0.2', '9.9']], dtype='<U32')"
      ]
     },
     "execution_count": 54,
     "metadata": {},
     "output_type": "execute_result"
    }
   ],
   "source": [
    "waypoint_list"
   ]
  },
  {
   "cell_type": "code",
   "execution_count": 55,
   "id": "13a260d0-f561-4de4-ad51-64dacf0eb2f8",
   "metadata": {},
   "outputs": [],
   "source": [
    "#Ahora una vez tenemos los puntos vamos a añadir el algoritmo de optimización\n",
    "\n",
    "#COSA TO DO DESPUÉS DE HABER LOGRADO UNIR EL OPTIMIZADOR CON LA RECOGIDA DE DATOS: FIJAR EL PUNTO INICIAL Y FINAL\n",
    "stops=paradas\n",
    "\n",
    "#Definimos el problema\n",
    "class RUTA (ElementwiseProblem):\n",
    "\n",
    "    def __init__(self, **kwargs):\n",
    "        \n",
    "        start_idx = 0  # Primer punto\n",
    "        end_idx = len(waypoints)-1 # Último punto\n",
    "        \n",
    "        n_stops, _ = stops.shape #Aquí coge las filas (Por tanto el número de paradas)\n",
    "        #n_stops=n_stops-1\n",
    "        self.stops = stops\n",
    "        self.D = cdist(stops, stops)\n",
    "        self.start_idx = start_idx\n",
    "        self.end_idx = end_idx\n",
    "        super(RUTA, self).__init__(\n",
    "            n_var=n_stops,\n",
    "            n_obj=1,\n",
    "            n_constr=2,\n",
    "            xl=0,\n",
    "            xu=len(stops),\n",
    "            vtype=int,\n",
    "            **kwargs\n",
    "        )\n",
    "\n",
    "    #Definimos las funciones de evaluación y las reestricciones\n",
    "    def _evaluate(self, x, out, *args, **kwargs):\n",
    "        distancia=self.get_route_length(x)\n",
    "        tiempo=self.get_route_length(x)/velocidad_media\n",
    "        out['F'] = [distancia]\n",
    "\n",
    "        #Voy a poner aquí las restricciones\n",
    "        #Restricciones\n",
    "        \n",
    "        #Max_dist=self.get_route_length(x)-250\n",
    "        \n",
    "        #Max_tiempo=self.get_route_length(x)/velocidad_media-250\n",
    "\n",
    "        #x_ord=np.sort(x)\n",
    "        #penalty_paradas=0\n",
    "        #for i in range(len(x_ord)-1):\n",
    "        #   if x_ord[i] == x_ord[i+1]:\n",
    "        #       penalty_paradas=10000\n",
    "        g1 = 1 if x[0] != self.start_idx else 0  # Penaliza si el primer punto no es start_idx\n",
    "        g2 = 1 if x[-1] != self.end_idx else 0   # Penaliza si el último punto no es end_idx\n",
    "        #out[\"G\"]=[Max_dist, Max_tiempo + penalty_paradas]\n",
    "        \n",
    "        out[\"G\"] = [g1, g2]\n",
    "\n",
    "    #Distancia de la ruta\n",
    "    def get_route_length(self, x):\n",
    "        n_stops = len(x)\n",
    "        dist = 0\n",
    "        for k in range(n_stops - 1):\n",
    "            i, j = x[k], x[k + 1]\n",
    "            dist += self.D[i, j]\n",
    "        return dist\n",
    "\n",
    "#Visualización de los resultados\n",
    "def visualize_3(problem, x, n, fig=None, ax=None, show=True, label=True):\n",
    "    with plt.style.context('ggplot'):\n",
    "        # Asegúrate de que x sea un array unidimensional\n",
    "        x = np.asarray(x)  # Convierte x a un array de numpy\n",
    "\n",
    "        if x.ndim == 1:  # Asegúrate de que es un vector\n",
    "            x = x.flatten()  # Aplana el array para asegurarte de que sea 1D\n",
    "\n",
    "        if fig is None or ax is None:\n",
    "            fig, ax = plt.subplots()\n",
    "\n",
    "        # Plot de las ciudades usando scatter plot\n",
    "        ax.scatter(problem.stops[:, 0], problem.stops[:, 1], s=150)\n",
    "        if label:\n",
    "            # Anota las ciudades\n",
    "            for i, c in enumerate(problem.stops):\n",
    "                ax.annotate(str(i), xy=c, fontsize=10, ha=\"center\", va=\"center\", color=\"white\")\n",
    "\n",
    "        # Plotea la línea en el camino\n",
    "        for i in range(len(x) - 1):\n",
    "            current = int(x[i])  # Asegúrate de convertir a entero\n",
    "            next_ = int(x[i + 1])  # Asegúrate de convertir a entero\n",
    "            ax.plot(problem.stops[[current, next_], 0], problem.stops[[current, next_], 1], 'r--')\n",
    "\n",
    "        fig.suptitle(f\"Route length: {problem.get_route_length(x)} km \\nRoute time: {problem.get_route_length(x) * 60 / velocidad_media} min\")\n",
    "\n",
    "        if show:\n",
    "            plt.show()"
   ]
  },
  {
   "cell_type": "code",
   "execution_count": 56,
   "id": "7d6572ce-a028-474a-9bce-864d2ea75187",
   "metadata": {},
   "outputs": [],
   "source": [
    "#Para en caso en el que tengamos más de un barco hará un clustering con kmeans para clasificar las diferentes paradas\n",
    "#De momento dejaremos el n_barcos fijos igual a 1 pero el algoritmo está preparado para que en algún momento se puedan añadir más\n",
    "n_barcos = 1\n",
    "\n",
    "style.use('ggplot') or plt.style.use('ggplot')\n",
    "\n",
    "x_k, y=paradas[0], paradas[1]\n",
    "X_scaled = scale(paradas)\n",
    "modelo_kmeans = KMeans(n_clusters=n_barcos, n_init=25, random_state=123)\n",
    "modelo_kmeans.fit(X=X_scaled)\n",
    "\n",
    "# Clasificación con el modelo kmeans\n",
    "\n",
    "y_predict = modelo_kmeans.predict(X=X_scaled)\n",
    "\n",
    "#Representación\n",
    "fig, ax = plt.subplots(1, 1, figsize=(10, 4))\n",
    "\n",
    "for i in np.unique(y_predict):\n",
    "    ax.scatter(\n",
    "        x = X_scaled[y_predict == i, 0],\n",
    "        y = X_scaled[y_predict == i, 1], \n",
    "        c = plt.rcParams['axes.prop_cycle'].by_key()['color'][i],\n",
    "        marker    = 'o',\n",
    "        edgecolor = 'black', \n",
    "        label= f\"Cluster {i}\"\n",
    "    )\n",
    "    \n",
    "ax.scatter(\n",
    "    x = modelo_kmeans.cluster_centers_[:, 0],\n",
    "    y = modelo_kmeans.cluster_centers_[:, 1], \n",
    "    c = 'black',\n",
    "    s = 40,\n",
    "    marker = 'o',\n",
    "    label  = 'centroides'\n",
    ")\n",
    "ax.set_title('Clusters generados por Kmeans')\n",
    "ax.legend();"
   ]
  },
  {
   "cell_type": "code",
   "execution_count": 57,
   "id": "3e248c12-7a9b-4f2a-829c-96841e0b1dbf",
   "metadata": {},
   "outputs": [
    {
     "name": "stdout",
     "output_type": "stream",
     "text": [
      "0\n",
      "[0 2 1 3]\n"
     ]
    },
    {
     "data": {
      "image/png": "[encoded data removed]",
      "text/plain": [
       "<Figure size 1000x400 with 1 Axes>"
      ]
     },
     "metadata": {},
     "output_type": "display_data"
    },
    {
     "data": {
      "image/png": "[encoded data removed]",
      "text/plain": [
       "<Figure size 640x480 with 1 Axes>"
      ]
     },
     "metadata": {},
     "output_type": "display_data"
    }
   ],
   "source": [
    "#Creamos un diccionario para almacenar cada ruta\n",
    "rutas={}\n",
    "stops = waypoint_list.astype(float)\n",
    "#print(stops)\n",
    "fitness=[]\n",
    "\n",
    "for i in range(n_barcos):\n",
    "    print(i)\n",
    "    grupos_finales=np.array([stops[:, 0], stops[:, 1], y_predict])\n",
    "    grupos_finales=grupos_finales.T\n",
    "    rutas[f\"ruta_{i}\"]=grupos_finales[grupos_finales[:,2]==i][:,:2]\n",
    "from pymoo.core.sampling import Sampling\n",
    "for i in range(n_barcos):\n",
    "    n_stops=len(stops)\n",
    "    problem = RUTA()\n",
    "\n",
    "        \n",
    "    class CustomSampling(Sampling):\n",
    "        def _do(self, problem, n_samples, **kwargs):\n",
    "            # Generar n_samples rutas aleatorias\n",
    "            samples = []\n",
    "            for _ in range(n_samples):\n",
    "                # Crear una ruta aleatoria (permutación de las paradas)\n",
    "                route = np.random.permutation(n_stops)\n",
    "                #print(f\"n_paradas {n_stops}\")\n",
    "                samples.append(route)\n",
    "                #print(f\"samples {samples}\")\n",
    "            return np.array(samples)\n",
    "            \n",
    "    #Muestra\n",
    "    sampling=CustomSampling()  \n",
    "    algorithm = NSGA2(\n",
    "        pop_size=20,\n",
    "        sampling=sampling,\n",
    "        mutation=InversionMutation(),\n",
    "        #mutation=BitflipMutation(),\n",
    "        crossover=OrderCrossover(),\n",
    "        eliminate_duplicates=True,\n",
    "        save_history=True,\n",
    "        #verbose=True\n",
    "    )\n",
    "\n",
    "    #Optimización    \n",
    "    res = minimize(\n",
    "        problem,\n",
    "        algorithm,\n",
    "        termination=('n_gen',100),\n",
    "        seed=1,\n",
    "        verbose=False,\n",
    "    )\n",
    "    #print(\"Maximum Span:\", np.round(res.F[0], 3))\n",
    "    #print(\"Function Evaluations:\", res.algorithm.evaluator.n_eval)\n",
    "    print(res.X)\n",
    "    %matplotlib inline\n",
    "    visualize_3(problem, res.X, n_barcos)\n",
    "    \n"
   ]
  },
  {
   "cell_type": "code",
   "execution_count": 58,
   "id": "6833a6e5-4a64-4561-a9d4-9ae720710469",
   "metadata": {},
   "outputs": [],
   "source": [
    "dtype = [('nombre', 'U10'), ('lat', 'f4'), ('lon', 'f4')]  # U10 para string, f4 para float\n",
    "resultado = np.zeros(len(res.X),dtype=dtype)\n",
    "\n",
    "for i in range(len(res.X)):\n",
    "    idx = res.X[i]\n",
    "    \n",
    "    resultado[i] = (f'BZ{i}', waypoint_list[idx, 0], waypoint_list[idx, 1])"
   ]
  },
  {
   "cell_type": "code",
   "execution_count": 59,
   "id": "2f67ea53-e7ab-4d22-87fc-c9c6009f54e0",
   "metadata": {},
   "outputs": [
    {
     "data": {
      "text/plain": [
       "array([[-2. ,  9.3],\n",
       "       [-7.5, 25.6],\n",
       "       [-0.3, 35.1],\n",
       "       [-0.2,  9.9]], dtype=float32)"
      ]
     },
     "execution_count": 59,
     "metadata": {},
     "output_type": "execute_result"
    }
   ],
   "source": [
    "Puntos_paso = np.vstack((resultado['lat'], resultado['lon'])).T\n",
    "Puntos_paso"
   ]
  },
  {
   "cell_type": "code",
   "execution_count": 60,
   "id": "882ee1f2-0d2a-48fe-8385-d8d573cc7c46",
   "metadata": {},
   "outputs": [],
   "source": [
    "#Ahora viene la implementación de las curvas de Bezier"
   ]
  },
  {
   "cell_type": "code",
   "execution_count": 61,
   "id": "2f983724-021a-439d-b60a-c959188b7252",
   "metadata": {},
   "outputs": [],
   "source": [
    "from scipy.special import comb\n",
    "import numpy as np\n",
    "\n",
    "def get_bezier_parameters(X, Y, smooth_factor, degree=3):\n",
    "    \"\"\" Ajuste de curvas Bézier mediante pseudoinversa de Penrose, evitando la colocación de puntos de control sobre los puntos de paso.\n",
    "\n",
    "    Parameters:\n",
    "    X: array de datos x.\n",
    "    Y: array de datos y.\n",
    "    smooth_factor: factor de suavidad.\n",
    "    degree: grado de la curva Bézier. 2 para cuadrática, 3 para cúbica.\n",
    "    \"\"\"\n",
    "    if degree < 1:\n",
    "        raise ValueError('degree must be 1 or greater.')\n",
    "\n",
    "    if len(X) != len(Y):\n",
    "        raise ValueError('X and Y must be of the same length.')\n",
    "\n",
    "    def bpoly(n, t, k):\n",
    "        \"\"\"Polinomio de Bernstein cuando a = 0 y b = 1.\"\"\"\n",
    "        return t ** k * (1 - t) ** (n - k) * comb(n, k)\n",
    "\n",
    "    def bmatrix(T):\n",
    "        \"\"\"Matriz de Bernstein para curvas Bézier.\"\"\"\n",
    "        return np.matrix([[bpoly(degree, t, k) for k in range(degree + 1)] for t in T])\n",
    "\n",
    "    def least_square_fit(points, M, smooth_factor):\n",
    "        M_ = np.linalg.pinv(M)\n",
    "        \n",
    "        smooth_matrix = np.eye(M.shape[1])\n",
    "        for i in range(1, M.shape[1]):\n",
    "            smooth_matrix[i, i - 1] = -1  # Penaliza diferencias grandes entre puntos de control adyacentes\n",
    "\n",
    "        # Combina el problema de ajuste original con la restricción de suavidad\n",
    "        augmented_matrix = np.vstack([M, smooth_factor * smooth_matrix])\n",
    "        augmented_points = np.vstack([points, np.zeros((smooth_matrix.shape[0], points.shape[1]))])\n",
    "        \n",
    "        return np.linalg.pinv(augmented_matrix) @ augmented_points\n",
    "\n",
    "    T = np.linspace(0, 1, len(X))\n",
    "    M = bmatrix(T)\n",
    "    points = np.array(list(zip(X, Y)))\n",
    "\n",
    "    final = least_square_fit(points, M, smooth_factor).tolist()\n",
    "\n",
    "    # Asegúrate de que los puntos de control no se superpongan con los puntos de paso\n",
    "    control_points = []\n",
    "    for idx, (fx, fy) in enumerate(final):\n",
    "        if idx > 0 and idx < len(final) - 1:\n",
    "            # Evita puntos de control sobre los puntos de paso\n",
    "            if not (fx in X and fy in Y):  \n",
    "                control_points.append([fx, fy])\n",
    "        else:\n",
    "            control_points.append([X[idx], Y[idx]])\n",
    "\n",
    "    return control_points\n"
   ]
  },
  {
   "cell_type": "code",
   "execution_count": 62,
   "id": "4de122f2-3cfe-4338-9c8f-8af125af0605",
   "metadata": {},
   "outputs": [],
   "source": [
    "from scipy.special import comb\n",
    "\n",
    "def get_bezier_parameters(X, Y, smooth_factor, degree=3):\n",
    "    \"\"\" Least square qbezier fit using penrose pseudoinverse.\n",
    "\n",
    "    Parameters:\n",
    "\n",
    "    X: array of x data.\n",
    "    Y: array of y data. Y[0] is the y point for X[0].\n",
    "    degree: degree of the Bézier curve. 2 for quadratic, 3 for cubic.\n",
    "\n",
    "    Based on https://stackoverflow.com/questions/12643079/b%C3%A9zier-curve-fitting-with-scipy\n",
    "    and probably on the 1998 thesis by Tim Andrew Pastva, \"Bézier Curve Fitting\".\n",
    "    \"\"\"\n",
    "    if degree < 1:\n",
    "        raise ValueError('degree must be 1 or greater.')\n",
    "\n",
    "    if len(X) != len(Y):\n",
    "        raise ValueError('X and Y must be of the same length.')\n",
    "\n",
    "    #if len(X) < degree + 1:\n",
    "    #    raise ValueError(f'There must be at least {degree + 1} points to '\n",
    "    #                     f'determine the parameters of a degree {degree} curve. '\n",
    "    #                     f'Got only {len(X)} points.')\n",
    "\n",
    "    def bpoly(n, t, k):\n",
    "        \"\"\" Bernstein polynomial when a = 0 and b = 1. \"\"\"\n",
    "        return t ** k * (1 - t) ** (n - k) * comb(n, k)\n",
    "        #return comb(n, i) * ( t**(n-i) ) * (1 - t)**i\n",
    "\n",
    "    def bmatrix(T):\n",
    "        \"\"\" Bernstein matrix for Bézier curves. \"\"\"\n",
    "        return np.matrix([[bpoly(degree, t, k) for k in range(degree + 1)] for t in T])\n",
    "\n",
    "    def least_square_fit(points, M, smooth_factor):\n",
    "        M_ = np.linalg.pinv(M)\n",
    "        \n",
    "        smooth_matrix = np.eye(M.shape[1])\n",
    "        for i in range(1, M.shape[1]):\n",
    "            smooth_matrix[i, i - 1] = -1  # Penaliza diferencias grandes entre puntos de control adyacentes\n",
    "\n",
    "        # Combine the original fitting problem with the smoothness constraint\n",
    "        augmented_matrix = np.vstack([M, smooth_factor * smooth_matrix])\n",
    "        augmented_points = np.vstack([points, np.zeros((smooth_matrix.shape[0], points.shape[1]))])\n",
    "        \n",
    "        return np.linalg.pinv(augmented_matrix) @ augmented_points\n",
    "\n",
    "    T = np.linspace(0, 1, len(X))\n",
    "    M = bmatrix(T)\n",
    "    points = np.array(list(zip(X, Y)))\n",
    "    \n",
    "    final = least_square_fit(points, M, smooth_factor).tolist()\n",
    "    final[0] = [X[0], Y[0]]\n",
    "    final[len(final)-1] = [X[len(X)-1], Y[len(Y)-1]]\n",
    "    return final"
   ]
  },
  {
   "cell_type": "code",
   "execution_count": 63,
   "id": "e83c9271-9f48-4900-82aa-5a684211dbb0",
   "metadata": {},
   "outputs": [],
   "source": [
    "def bernstein_poly(i, n, t):\n",
    "    \"\"\"\n",
    "     The Bernstein polynomial of n, i as a function of t\n",
    "    \"\"\"\n",
    "    return comb(n, i) * ( t**(n-i) ) * (1 - t)**i\n",
    "\n",
    "\n",
    "def bezier_curve(points, nTimes=50):\n",
    "    \"\"\"\n",
    "       Given a set of control points, return the\n",
    "       bezier curve defined by the control points.\n",
    "\n",
    "       points should be a list of lists, or list of tuples\n",
    "       such as [ [1,1], \n",
    "                 [2,3], \n",
    "                 [4,5], ..[Xn, Yn] ]\n",
    "        nTimes is the number of time steps, defaults to 1000\n",
    "\n",
    "        See http://processingjs.nihongoresources.com/bezierinfo/\n",
    "    \"\"\"\n",
    "\n",
    "    nPoints = len(points)\n",
    "    xPoints = np.array([p[0] for p in points])\n",
    "    yPoints = np.array([p[1] for p in points])\n",
    "\n",
    "    t = np.linspace(0.0, 1.0, nTimes)\n",
    "\n",
    "    polynomial_array = np.array([ bernstein_poly(i, nPoints-1, t) for i in range(0, nPoints)   ])\n",
    "\n",
    "    xvals = np.dot(xPoints, polynomial_array)\n",
    "    yvals = np.dot(yPoints, polynomial_array)\n",
    "\n",
    "    return xvals, yvals"
   ]
  },
  {
   "cell_type": "code",
   "execution_count": 64,
   "id": "dd5ce3bd-f198-4c9e-9a77-5c1052844e45",
   "metadata": {},
   "outputs": [
    {
     "data": {
      "text/plain": [
       "array([[-2. ,  9.3],\n",
       "       [-7.5, 25.6],\n",
       "       [-0.3, 35.1],\n",
       "       [-0.2,  9.9]], dtype=float32)"
      ]
     },
     "execution_count": 64,
     "metadata": {},
     "output_type": "execute_result"
    }
   ],
   "source": [
    "Puntos_paso"
   ]
  },
  {
   "cell_type": "code",
   "execution_count": 65,
   "id": "caf0258e-71e5-4434-ac6f-d94fdde0b67b",
   "metadata": {},
   "outputs": [],
   "source": [
    "#Añadimos los puntos\n",
    "points = []\n",
    "xpoints = Puntos_paso[:,0]\n",
    "ypoints = Puntos_paso[:,1]\n",
    "for i in range(len(xpoints)):\n",
    "    points.append([xpoints[i],ypoints[i]])"
   ]
  },
  {
   "cell_type": "code",
   "execution_count": 66,
   "id": "0ba007e6-bbf0-446a-bb97-439fd63f165d",
   "metadata": {},
   "outputs": [
    {
     "data": {
      "text/plain": [
       "array([-2. , -7.5], dtype=float32)"
      ]
     },
     "execution_count": 66,
     "metadata": {},
     "output_type": "execute_result"
    }
   ],
   "source": [
    "xpoints[0:2]"
   ]
  },
  {
   "cell_type": "code",
   "execution_count": 67,
   "id": "e0c5bf99-1137-4a6a-afe2-9e3aa8eef71d",
   "metadata": {},
   "outputs": [],
   "source": [
    "def calcular_pendiente(punto1, punto2):\n",
    "    x1, y1 = punto1\n",
    "    x2, y2 = punto2\n",
    "\n",
    "    if x2 == x1:\n",
    "        raise ValueError(\"La pendiente es indefinida (división por cero).\")\n",
    "    \n",
    "    pendiente = (y2 - y1) / (x2 - x1)\n",
    "    return pendiente\n",
    "\n",
    "def calcular_interseccion(punto, pendiente):\n",
    "    x1, y1 = punto\n",
    "    b = y1 - pendiente * x1\n",
    "    return b\n",
    "\n",
    "def calcular_puntos_en_recta(punto1, punto2, x_values):\n",
    "    m = calcular_pendiente(punto1, punto2)\n",
    "    b = calcular_interseccion(punto1, m)\n",
    "    \n",
    "    # Calcular los puntos en la recta\n",
    "    puntos = [(x, m * x + b) for x in x_values]\n",
    "    return puntos\n",
    "\n",
    "\n"
   ]
  },
  {
   "cell_type": "code",
   "execution_count": 68,
   "id": "2eb522f9-dd6a-4115-80c9-29d527f08113",
   "metadata": {},
   "outputs": [
    {
     "name": "stdout",
     "output_type": "stream",
     "text": [
      "[[-2.0, 9.3], [-8.699019840708198, 14.41043133621231], [-11.209977319912865, 22.084154187268833], [-7.960602010801844, 32.42780816799015], [-1.5765797558469055, 41.14157576908793], [3.0435052165250234, 41.330742205019085], [3.1368960975160856, 29.71093872097433], [-0.2, 9.9]]\n",
      "[-2.0, -8.699019840708198, -11.209977319912865, -7.960602010801844, -1.5765797558469055, 3.0435052165250234, 3.1368960975160856, -0.2]\n",
      "[9.3, 14.41043133621231, 22.084154187268833, 32.42780816799015, 41.14157576908793, 41.330742205019085, 29.71093872097433, 9.9]\n",
      "Puntos en la recta: [(-9.954498580310531, 18.24729276174057), (0, -12.174593653769012)]\n"
     ]
    },
    {
     "data": {
      "image/png": "[encoded data removed]",
      "text/plain": [
       "<Figure size 640x480 with 1 Axes>"
      ]
     },
     "metadata": {},
     "output_type": "display_data"
    }
   ],
   "source": [
    "import matplotlib.pyplot as plt\n",
    "# Plot the original points\n",
    "plt.plot(xpoints, ypoints, \"ro\", markersize = 7, label='Original Points')\n",
    "# Get the Bezier parameters based on a degree.\n",
    "data = get_bezier_parameters(xpoints, ypoints, 0.05, degree=len(xpoints)*2-1) #BZ0 BZ5 BZ8 BZ11 son los de paso, por tanto habrá 4*2 + 1 puntos de contol ya que el algoritmo te pone 1 pnt cntrl en el 1 punto y en el último\n",
    "\n",
    "x_val = [x[0] for x in data]\n",
    "y_val = [x[1] for x in data]\n",
    "print(data)\n",
    "print(x_val)\n",
    "print(y_val)\n",
    "x_val = np.delete(x_val, 0)\n",
    "x_val = np.delete(x_val, -1)\n",
    "y_val = np.delete(y_val, 0)\n",
    "y_val = np.delete(y_val, -1)\n",
    "\n",
    "punto1 = (x_val[1], y_val[1])\n",
    "punto2 = (x_val[0], y_val[0])\n",
    "\n",
    "valores_x =(x_val[1]+(abs(x_val[1]-x_val[0]))/2, 0)\n",
    "\n",
    "puntos_en_recta = calcular_puntos_en_recta(punto1, punto2, valores_x)\n",
    "\n",
    "x_val = np.insert(x_val, 1, puntos_en_recta[0][0])\n",
    "#x_val = np.insert(x_val, 2, puntos_en_recta[1][0])\n",
    "y_val = np.insert(y_val, 1, puntos_en_recta[0][1])\n",
    "#y_val = np.insert(y_val, 2, puntos_en_recta[1][1])\n",
    "\n",
    "\n",
    "\n",
    "print(\"Puntos en la recta:\", puntos_en_recta)\n",
    "\n",
    "# Añadir etiquetas de los índices\n",
    "for i, (xi, yi) in enumerate(zip(x_val, y_val)):\n",
    "    plt.text(xi, yi, str(i), fontsize=12, ha='right')\n",
    "\n",
    "\n",
    "# Plot the control points\n",
    "plt.plot(x_val,y_val,'k--o', label='Control Points')\n",
    "# Plot the resulting Bezier curve\n",
    "xvals, yvals = bezier_curve(data, nTimes=1000)\n",
    "#plt.xlim(40, 40.5)\n",
    "#plt.ylim(-3.72725, -3.72580)\n",
    "plt.plot(xvals, yvals, 'b-', label='B Curve')\n",
    "plt.legend()\n",
    "plt.show()"
   ]
  },
  {
   "cell_type": "code",
   "execution_count": 69,
   "id": "1aa954f9-acac-4726-8963-43a7f70a64b1",
   "metadata": {},
   "outputs": [
    {
     "data": {
      "text/plain": [
       "(-9.954498580310531, 0)"
      ]
     },
     "execution_count": 69,
     "metadata": {},
     "output_type": "execute_result"
    }
   ],
   "source": [
    "valores_x"
   ]
  },
  {
   "cell_type": "code",
   "execution_count": 70,
   "id": "ea92a7f6-5e43-4f1c-9727-fdb22b90c09e",
   "metadata": {},
   "outputs": [
    {
     "name": "stdout",
     "output_type": "stream",
     "text": [
      "1\n",
      "2\n",
      "3\n",
      "4\n",
      "Paso:  1\n",
      "Punto añadido:  [-7.5 25.6]\n",
      "Control 1: 4\n",
      "Punto añadido:  [-1.57657976 41.14157577]\n",
      "Control 2: 5\n",
      "Punto añadido:  [ 3.04350522 41.33074221]\n",
      "[[ -2.           9.30000019]\n",
      " [ -8.69901984  14.41043134]\n",
      " [ -9.95449858  18.24729276]\n",
      " [-11.20997732  22.08415419]\n",
      " [ -7.96060201  32.42780817]\n",
      " [ -7.5         25.60000038]\n",
      " [ -1.57657976  41.14157577]\n",
      " [  3.04350522  41.33074221]\n",
      " [  0.           0.        ]\n",
      " [  0.           0.        ]\n",
      " [  0.           0.        ]]\n",
      "Paso:  2\n",
      "Punto añadido:  [-0.3 35.1]\n",
      "Control 1: 6\n",
      "Punto añadido:  [ 3.1368961  29.71093872]\n",
      "[[ -2.           9.30000019]\n",
      " [ -8.69901984  14.41043134]\n",
      " [ -9.95449858  18.24729276]\n",
      " [-11.20997732  22.08415419]\n",
      " [ -7.96060201  32.42780817]\n",
      " [ -7.5         25.60000038]\n",
      " [ -1.57657976  41.14157577]\n",
      " [  3.04350522  41.33074221]\n",
      " [ -0.30000001  35.09999847]\n",
      " [  3.1368961   29.71093872]\n",
      " [  0.           0.        ]]\n"
     ]
    }
   ],
   "source": [
    "#Ahora que ya tenemos los puntos de paso y de control necesitamos llevarlo a paparazzi en un xml\n",
    "\n",
    "#Hay que tener en cuenta lo siguiente: Después de BZ0 -> 4 pnts control, luego entre punto y punto habrá 2 de control\n",
    "Puntos_control = np.array([x_val, y_val]).T\n",
    "Total_puntos = Puntos_control.shape[0] + Puntos_paso.shape[0]\n",
    "Puntos_Bezier = np.zeros((Total_puntos, Puntos_control.shape[1]))\n",
    "\n",
    "#Añadimos en primer lugar BZ0 y los 4 puntos de control\n",
    "\n",
    "Puntos_Bezier[0] = Puntos_paso[0]\n",
    "for i in range(1, 5, 1):\n",
    "    print(i)\n",
    "    Puntos_Bezier[i] = Puntos_control[i-1]\n",
    "\n",
    "idx_control = 4\n",
    "idx_paso = 1\n",
    "\n",
    "for i in range(5, len(Puntos_Bezier), 3):\n",
    "    if idx_paso<=len(Puntos_paso)-1:\n",
    "        print(\"Paso: \", idx_paso)\n",
    "        print(\"Punto añadido: \", Puntos_paso[idx_paso])\n",
    "        Puntos_Bezier[i] = Puntos_paso[idx_paso]\n",
    "        idx_paso += 1\n",
    "    if idx_control<=len(Puntos_control)-1:\n",
    "        print(\"Control 1:\", idx_control)\n",
    "        print(\"Punto añadido: \", Puntos_control[idx_control])\n",
    "        Puntos_Bezier[i+1] = Puntos_control[idx_control]\n",
    "        idx_control += 1\n",
    "    if idx_control<=len(Puntos_control)-1:\n",
    "        print(\"Control 2:\", idx_control)\n",
    "        print(\"Punto añadido: \", Puntos_control[idx_control])\n",
    "        Puntos_Bezier[i+2] = Puntos_control[idx_control]\n",
    "        idx_control += 1\n",
    "    print(Puntos_Bezier)"
   ]
  },
  {
   "cell_type": "code",
   "execution_count": 71,
   "id": "19174896-565e-431b-886c-07ff5c51f906",
   "metadata": {},
   "outputs": [
    {
     "name": "stdout",
     "output_type": "stream",
     "text": [
      "Paso:\n",
      " [[-2.   9.3]\n",
      " [-7.5 25.6]\n",
      " [-0.3 35.1]\n",
      " [-0.2  9.9]]\n",
      "Control:\n",
      " [[ -8.69901984  14.41043134]\n",
      " [ -9.95449858  18.24729276]\n",
      " [-11.20997732  22.08415419]\n",
      " [ -7.96060201  32.42780817]\n",
      " [ -1.57657976  41.14157577]\n",
      " [  3.04350522  41.33074221]\n",
      " [  3.1368961   29.71093872]]\n",
      "Bezier:\n",
      " [[ -2.           9.30000019]\n",
      " [ -8.69901984  14.41043134]\n",
      " [ -9.95449858  18.24729276]\n",
      " [-11.20997732  22.08415419]\n",
      " [ -7.96060201  32.42780817]\n",
      " [ -7.5         25.60000038]\n",
      " [ -1.57657976  41.14157577]\n",
      " [  3.04350522  41.33074221]\n",
      " [ -0.30000001  35.09999847]\n",
      " [  3.1368961   29.71093872]\n",
      " [  0.           0.        ]]\n"
     ]
    }
   ],
   "source": [
    "print(\"Paso:\\n\", Puntos_paso)\n",
    "\n",
    "print(\"Control:\\n\", Puntos_control)\n",
    "\n",
    "print(\"Bezier:\\n\", Puntos_Bezier)"
   ]
  },
  {
   "cell_type": "code",
   "execution_count": 72,
   "id": "82154394-c984-47e4-8676-308d94ee29df",
   "metadata": {},
   "outputs": [
    {
     "data": {
      "text/plain": [
       "array([[ -8.69901984,  14.41043134],\n",
       "       [ -9.95449858,  18.24729276],\n",
       "       [-11.20997732,  22.08415419],\n",
       "       [ -7.96060201,  32.42780817],\n",
       "       [ -1.57657976,  41.14157577],\n",
       "       [  3.04350522,  41.33074221],\n",
       "       [  3.1368961 ,  29.71093872]])"
      ]
     },
     "execution_count": 72,
     "metadata": {},
     "output_type": "execute_result"
    }
   ],
   "source": [
    "Puntos_control"
   ]
  },
  {
   "cell_type": "code",
   "execution_count": 73,
   "id": "ebd947a4-4a72-4676-a010-e3e2961ee10f",
   "metadata": {},
   "outputs": [
    {
     "name": "stdout",
     "output_type": "stream",
     "text": [
      "[('BZ0',  -2.       ,  9.3     ) ('BZ1',  -8.699019 , 14.410431)\n",
      " ('BZ2',  -9.954498 , 18.247293) ('BZ3', -11.209977 , 22.084154)\n",
      " ('BZ4',  -7.960602 , 32.427807) ('BZ5',  -7.5      , 25.6     )\n",
      " ('BZ6',  -1.5765798, 41.141575) ('BZ7',   3.0435052, 41.33074 )\n",
      " ('BZ8',  -0.3      , 35.1     ) ('BZ9',   3.1368961, 29.71094 )\n",
      " ('BZ10',   0.       ,  0.      )]\n"
     ]
    }
   ],
   "source": [
    "# Ahora hay que meter estos puntos en el xml\n",
    "\n",
    "# Añadimos una columna de ceros donde meteremos los nombres\n",
    "Columna_nombres = np.zeros(Puntos_Bezier.shape[0], dtype=object)  # Cambiado a un vector de tamaño adecuado\n",
    "\n",
    "dtype = [('nombre', 'U10'), ('x', 'f4'), ('y', 'f4')]  # U10 para string, f4 para float\n",
    "\n",
    "# Concatenar la columna de nombres y Puntos_Bezier\n",
    "resultado = np.empty(len(Columna_nombres), dtype=dtype)  # Crear un array vacío del tipo correcto\n",
    "resultado['nombre'] = Columna_nombres  # Asignar la columna de nombres\n",
    "resultado['x'] = Puntos_Bezier[:, 0]  # Asignar la columna x\n",
    "resultado['y'] = Puntos_Bezier[:, 1]  # Asignar la columna y\n",
    "\n",
    "unchanged_array = np.zeros(len(unchangedpoints), dtype=dtype)\n",
    "\n",
    "# Ponemos el nombre en la columna correspondiente\n",
    "for i in range(len(resultado)):\n",
    "    resultado[i]['nombre'] = f'BZ{i}'\n",
    "print(resultado)\n",
    "\n",
    "# Rellenamos este array\n",
    "for i, (nombre, x_str, y_str) in enumerate(unchangedpoints):\n",
    "    #print(\"x: \", x_str)\n",
    "    #print(\"y: \", y_str)\n",
    "    #print(\"Nombre: \", nombre)\n",
    "    unchanged_array[i] = (nombre, float(x_str), float(y_str)) \n"
   ]
  },
  {
   "cell_type": "code",
   "execution_count": 74,
   "id": "4133d4bb-7c51-487c-9e2e-90cd1072daba",
   "metadata": {},
   "outputs": [
    {
     "name": "stdout",
     "output_type": "stream",
     "text": [
      "[('BZ0',  -2.       ,  9.3     ) ('BZ1',  -8.699019 , 14.410431)\n",
      " ('BZ2',  -9.954498 , 18.247293) ('BZ3', -11.209977 , 22.084154)\n",
      " ('BZ4',  -7.960602 , 32.427807) ('BZ5',  -7.5      , 25.6     )\n",
      " ('BZ6',  -1.5765798, 41.141575) ('BZ7',   3.0435052, 41.33074 )\n",
      " ('BZ8',  -0.3      , 35.1     ) ('BZ9',   3.1368961, 29.71094 )\n",
      " ('BZ10',   0.       ,  0.      )]\n"
     ]
    }
   ],
   "source": [
    "print(resultado)"
   ]
  },
  {
   "cell_type": "code",
   "execution_count": 75,
   "id": "b4a70c0b-b9a2-47ef-a35c-877f3b21c4e6",
   "metadata": {},
   "outputs": [
    {
     "data": {
      "text/plain": [
       "array([ -2.       ,  -8.699019 ,  -9.954498 , -11.209977 ,  -7.960602 ,\n",
       "        -7.5      ,  -1.5765798,   3.0435052,  -0.3      ,   3.1368961,\n",
       "         0.       ], dtype=float32)"
      ]
     },
     "execution_count": 75,
     "metadata": {},
     "output_type": "execute_result"
    }
   ],
   "source": [
    "resultado['x']"
   ]
  },
  {
   "cell_type": "code",
   "execution_count": 76,
   "id": "8cf46e3b-0ecd-4917-9b31-60ff969a0904",
   "metadata": {},
   "outputs": [
    {
     "name": "stdout",
     "output_type": "stream",
     "text": [
      "Waypoints reescritos y guardados\n"
     ]
    }
   ],
   "source": [
    "#Si se añade para que vaya más de un barco esto habrá que modificarlo para que cree diferentes archivos\n",
    "# Reescribir todos los waypoints organizados desde 'resultados'\n",
    "\n",
    "for name, x, y in resultado:\n",
    "    new_waypoint = ET.Element('waypoint', x=str(x), y=str(y), name=name)\n",
    "    way_points.append(new_waypoint)\n",
    "for name, x, y in unchangedpoints:\n",
    "    new_unchanged = ET.Element('waypoint', name=name, x=str(x), y=str(y))\n",
    "    way_points.append(new_unchanged)\n",
    "\n",
    "# Función para formatear el XML\n",
    "def prettify(element):\n",
    "    \"\"\" Devuelve una versión 'bonita' del XML \"\"\"\n",
    "    rough_string = ET.tostring(element, 'utf-8')\n",
    "    reparsed = minidom.parseString(rough_string)\n",
    "    return reparsed.toprettyxml(indent=\"  \")\n",
    "\n",
    "# Guardar los cambios en el archivo XML\n",
    "with open('/home/dacya-iagesbloom/Documents/paparazzi/conf/flight_plans/UCM/PRUEBA_BZ_V3_optimizado.xml', 'w', encoding='utf-8') as f:\n",
    "    f.write('<!DOCTYPE flight_plan SYSTEM \"../flight_plan.dtd\">\\n')\n",
    "    f.write(prettify(root))\n",
    "\n",
    "print(\"Waypoints reescritos y guardados\")"
   ]
  },
  {
   "cell_type": "code",
   "execution_count": null,
   "id": "b0226549-288d-4ecb-b583-45dd0db8c919",
   "metadata": {},
   "outputs": [],
   "source": []
  },
  {
   "cell_type": "code",
   "execution_count": null,
   "id": "813f4767-4d6a-4ccf-94d1-75f1fb21309a",
   "metadata": {},
   "outputs": [],
   "source": []
  }
 ],
 "metadata": {
  "kernelspec": {
   "display_name": "Python 3 (ipykernel)",
   "language": "python",
   "name": "python3"
  },
  "language_info": {
   "codemirror_mode": {
    "name": "ipython",
    "version": 3
   },
   "file_extension": ".py",
   "mimetype": "text/x-python",
   "name": "python",
   "nbconvert_exporter": "python",
   "pygments_lexer": "ipython3",
   "version": "3.8.10"
  }
 },
 "nbformat": 4,
 "nbformat_minor": 5
}
